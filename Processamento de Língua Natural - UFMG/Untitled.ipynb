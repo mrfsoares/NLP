{
 "cells": [
  {
   "cell_type": "code",
   "execution_count": null,
   "id": "5ee381be-4b80-47e0-a8e1-3a08480bb30e",
   "metadata": {},
   "outputs": [],
   "source": [
    "https://www.youtube.com/watch?v=NBqDzewxJDo&list=PLt2qoMeOJsQyAklWpREY5ivAUe3jrrR21&index=1"
   ]
  }
 ],
 "metadata": {
  "kernelspec": {
   "display_name": "Python 3 (ipykernel)",
   "language": "python",
   "name": "python3"
  },
  "language_info": {
   "name": ""
  }
 },
 "nbformat": 4,
 "nbformat_minor": 5
}
