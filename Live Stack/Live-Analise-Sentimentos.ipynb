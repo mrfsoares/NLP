{
 "cells": [
  {
   "cell_type": "markdown",
   "metadata": {},
   "source": [
    "---\n",
    "---\n",
    "### Definições importantes \n",
    "\n",
    "\n",
    "**Def. 1:**\n",
    "\n",
    "``#### NLP``\n",
    ">\"O processamento de linguagem natural (NLP) é um ramo da inteligência artificial (IA) que permite aos computadores compreender, gerar e manipular a linguagem humana. O processamento de linguagem natural tem a capacidade de interrogar os dados com texto ou voz de linguagem natural.\" [Oracle](https://www.oracle.com/br/artificial-intelligence/what-is-natural-language-processing/#:~:text=O%20processamento%20de%20linguagem%20natural%20(NLP)%20%C3%A9%20um%20ramo%20da,ou%20voz%20de%20linguagem%20natural.)\n",
    "\n",
    "\n",
    "**Def. 2:**\n",
    "\n",
    "``#### Análise de Sentimentos``\n",
    "\n",
    ">\"Análise de sentimento, também conhecida como mineração de opinião, é o\n",
    "campo de estudo que analisa as opiniões, sentimentos, avaliações, atitudes\n",
    "e emoções das pessoas em relação a entidades como produtos, serviços,\n",
    "organizações, indivíduos, eventos e seus aspectos\" (LIU, 2012)\n",
    "\n",
    "---\n"
   ]
  },
  {
   "cell_type": "markdown",
   "metadata": {},
   "source": [
    "---\n",
    "---\n",
    "### Utilidades:\n",
    "\n",
    "**[Ferramentas para Processamento de Linguagem Natural em Português](https://medium.com/turing-talks/ferramentas-para-processamento-de-linguagem-natural-em-portugu%C3%AAs-977c7f59c382)**\n",
    "- Um guia para as principais bibliotecas para se trabalhar com NLP em português\n",
    "---\n",
    "\n",
    "---\n",
    "\n",
    "O código utilizado tem como fonte principal a live _Live #6: Análise de Sentimentos Utilizando Dados do Twitter (Passo a passo)_ do canal Stack. O código sofreu modificações e adição de comentários conforme se julgou necessário para a melhor compreensão do conteúdo ou para testar coisas novas. Link da live abaixo:\n",
    "- FONTE: https://www.youtube.com/watch?v=Zy5sHkr5W7s\n",
    "\n",
    "---\n",
    "---"
   ]
  },
  {
   "cell_type": "markdown",
   "metadata": {
    "colab_type": "text",
    "id": "Oks5bNFRfHHB"
   },
   "source": [
    "## **Análise de Sentimentos usando Machine Learning**"
   ]
  },
  {
   "cell_type": "markdown",
   "metadata": {
    "colab_type": "text",
    "id": "IJsB6eY0fHHC"
   },
   "source": [
    "* Criando modelos para análise de sentimentos de tweets"
   ]
  },
  {
   "cell_type": "code",
   "execution_count": 1,
   "metadata": {
    "colab": {},
    "colab_type": "code",
    "id": "T4_K6NcqfHHD"
   },
   "outputs": [],
   "source": [
    "from nltk import word_tokenize\n",
    "import nltk\n",
    "import re\n",
    "import pandas as pd\n",
    "from sklearn.feature_extraction.text import CountVectorizer\n",
    "from sklearn.naive_bayes import MultinomialNB\n",
    "from sklearn import svm\n",
    "from sklearn import metrics\n",
    "from sklearn.model_selection import cross_val_predict"
   ]
  },
  {
   "cell_type": "markdown",
   "metadata": {
    "colab_type": "text",
    "id": "r1pxDwaHfHHF"
   },
   "source": [
    "**Ler arquivo de dados e conta a quantidade de linhas**\n",
    "\n",
    "Foram disponibilizados dados de tweets que foram coletados com base em alguns termos e palavras chaves de Minas Gerais (relacionados a dados públicos, política, educação, etc - base de dados cedida pela PRODEMGE.)"
   ]
  },
  {
   "cell_type": "code",
   "execution_count": 2,
   "metadata": {
    "colab": {},
    "colab_type": "code",
    "id": "GOYpa0vtfHHG"
   },
   "outputs": [],
   "source": [
    "df = pd.read_csv('Tweets_Mg.csv', encoding='utf-8')"
   ]
  },
  {
   "cell_type": "code",
   "execution_count": 3,
   "metadata": {
    "colab": {
     "base_uri": "https://localhost:8080/",
     "height": 583
    },
    "colab_type": "code",
    "executionInfo": {
     "elapsed": 629,
     "status": "ok",
     "timestamp": 1566431950115,
     "user": {
      "displayName": "Rodrigo Santana Ferreira",
      "photoUrl": "https://lh3.googleusercontent.com/a-/AAuE7mDmYh9EbTthNVFuzwQSdLXKIk98sJfQinB_DD4VqA=s64",
      "userId": "14710330936720624047"
     },
     "user_tz": 180
    },
    "id": "DzxUf5TOnF-4",
    "outputId": "c6e11385-1894-44f1-be82-66779964018b"
   },
   "outputs": [
    {
     "data": {
      "text/html": [
       "<div>\n",
       "<style scoped>\n",
       "    .dataframe tbody tr th:only-of-type {\n",
       "        vertical-align: middle;\n",
       "    }\n",
       "\n",
       "    .dataframe tbody tr th {\n",
       "        vertical-align: top;\n",
       "    }\n",
       "\n",
       "    .dataframe thead th {\n",
       "        text-align: right;\n",
       "    }\n",
       "</style>\n",
       "<table border=\"1\" class=\"dataframe\">\n",
       "  <thead>\n",
       "    <tr style=\"text-align: right;\">\n",
       "      <th></th>\n",
       "      <th>Unnamed: 0</th>\n",
       "      <th>Created At</th>\n",
       "      <th>Text</th>\n",
       "      <th>Geo Coordinates.latitude</th>\n",
       "      <th>Geo Coordinates.longitude</th>\n",
       "      <th>User Location</th>\n",
       "      <th>Username</th>\n",
       "      <th>User Screen Name</th>\n",
       "      <th>Retweet Count</th>\n",
       "      <th>Classificacao</th>\n",
       "      <th>...</th>\n",
       "      <th>Unnamed: 15</th>\n",
       "      <th>Unnamed: 16</th>\n",
       "      <th>Unnamed: 17</th>\n",
       "      <th>Unnamed: 18</th>\n",
       "      <th>Unnamed: 19</th>\n",
       "      <th>Unnamed: 20</th>\n",
       "      <th>Unnamed: 21</th>\n",
       "      <th>Unnamed: 22</th>\n",
       "      <th>Unnamed: 23</th>\n",
       "      <th>Unnamed: 24</th>\n",
       "    </tr>\n",
       "  </thead>\n",
       "  <tbody>\n",
       "    <tr>\n",
       "      <th>0</th>\n",
       "      <td>0</td>\n",
       "      <td>Sun Jan 08 01:22:05 +0000 2017</td>\n",
       "      <td>���⛪ @ Catedral de Santo Antônio - Governador ...</td>\n",
       "      <td>NaN</td>\n",
       "      <td>NaN</td>\n",
       "      <td>Brasil</td>\n",
       "      <td>Leonardo C Schneider</td>\n",
       "      <td>LeoCSchneider</td>\n",
       "      <td>0</td>\n",
       "      <td>Neutro</td>\n",
       "      <td>...</td>\n",
       "      <td>NaN</td>\n",
       "      <td>NaN</td>\n",
       "      <td>NaN</td>\n",
       "      <td>NaN</td>\n",
       "      <td>NaN</td>\n",
       "      <td>NaN</td>\n",
       "      <td>NaN</td>\n",
       "      <td>NaN</td>\n",
       "      <td>NaN</td>\n",
       "      <td>NaN</td>\n",
       "    </tr>\n",
       "    <tr>\n",
       "      <th>1</th>\n",
       "      <td>1</td>\n",
       "      <td>Sun Jan 08 01:49:01 +0000 2017</td>\n",
       "      <td>� @ Governador Valadares, Minas Gerais https:/...</td>\n",
       "      <td>-41.9333</td>\n",
       "      <td>-18.85</td>\n",
       "      <td>NaN</td>\n",
       "      <td>Wândell</td>\n",
       "      <td>klefnews</td>\n",
       "      <td>0</td>\n",
       "      <td>Neutro</td>\n",
       "      <td>...</td>\n",
       "      <td>NaN</td>\n",
       "      <td>NaN</td>\n",
       "      <td>NaN</td>\n",
       "      <td>NaN</td>\n",
       "      <td>NaN</td>\n",
       "      <td>NaN</td>\n",
       "      <td>NaN</td>\n",
       "      <td>NaN</td>\n",
       "      <td>NaN</td>\n",
       "      <td>NaN</td>\n",
       "    </tr>\n",
       "    <tr>\n",
       "      <th>2</th>\n",
       "      <td>2</td>\n",
       "      <td>Sun Jan 08 01:01:46 +0000 2017</td>\n",
       "      <td>�� @ Governador Valadares, Minas Gerais https:...</td>\n",
       "      <td>-41.9333</td>\n",
       "      <td>-18.85</td>\n",
       "      <td>NaN</td>\n",
       "      <td>Wândell</td>\n",
       "      <td>klefnews</td>\n",
       "      <td>0</td>\n",
       "      <td>Neutro</td>\n",
       "      <td>...</td>\n",
       "      <td>NaN</td>\n",
       "      <td>NaN</td>\n",
       "      <td>NaN</td>\n",
       "      <td>NaN</td>\n",
       "      <td>NaN</td>\n",
       "      <td>NaN</td>\n",
       "      <td>NaN</td>\n",
       "      <td>NaN</td>\n",
       "      <td>NaN</td>\n",
       "      <td>NaN</td>\n",
       "    </tr>\n",
       "    <tr>\n",
       "      <th>3</th>\n",
       "      <td>3</td>\n",
       "      <td>Wed Jan 04 21:43:51 +0000 2017</td>\n",
       "      <td>��� https://t.co/BnDsO34qK0</td>\n",
       "      <td>NaN</td>\n",
       "      <td>NaN</td>\n",
       "      <td>NaN</td>\n",
       "      <td>Ana estudando</td>\n",
       "      <td>estudandoconcur</td>\n",
       "      <td>0</td>\n",
       "      <td>Neutro</td>\n",
       "      <td>...</td>\n",
       "      <td>NaN</td>\n",
       "      <td>NaN</td>\n",
       "      <td>NaN</td>\n",
       "      <td>NaN</td>\n",
       "      <td>NaN</td>\n",
       "      <td>NaN</td>\n",
       "      <td>NaN</td>\n",
       "      <td>NaN</td>\n",
       "      <td>NaN</td>\n",
       "      <td>NaN</td>\n",
       "    </tr>\n",
       "    <tr>\n",
       "      <th>4</th>\n",
       "      <td>4</td>\n",
       "      <td>Mon Jan 09 15:08:21 +0000 2017</td>\n",
       "      <td>��� PSOL vai questionar aumento de vereadores ...</td>\n",
       "      <td>NaN</td>\n",
       "      <td>NaN</td>\n",
       "      <td>NaN</td>\n",
       "      <td>Emily</td>\n",
       "      <td>Milly777</td>\n",
       "      <td>0</td>\n",
       "      <td>Negativo</td>\n",
       "      <td>...</td>\n",
       "      <td>NaN</td>\n",
       "      <td>NaN</td>\n",
       "      <td>NaN</td>\n",
       "      <td>NaN</td>\n",
       "      <td>NaN</td>\n",
       "      <td>NaN</td>\n",
       "      <td>NaN</td>\n",
       "      <td>NaN</td>\n",
       "      <td>NaN</td>\n",
       "      <td>NaN</td>\n",
       "    </tr>\n",
       "  </tbody>\n",
       "</table>\n",
       "<p>5 rows × 26 columns</p>\n",
       "</div>"
      ],
      "text/plain": [
       "   Unnamed: 0                      Created At  \\\n",
       "0           0  Sun Jan 08 01:22:05 +0000 2017   \n",
       "1           1  Sun Jan 08 01:49:01 +0000 2017   \n",
       "2           2  Sun Jan 08 01:01:46 +0000 2017   \n",
       "3           3  Wed Jan 04 21:43:51 +0000 2017   \n",
       "4           4  Mon Jan 09 15:08:21 +0000 2017   \n",
       "\n",
       "                                                Text  \\\n",
       "0  ���⛪ @ Catedral de Santo Antônio - Governador ...   \n",
       "1  � @ Governador Valadares, Minas Gerais https:/...   \n",
       "2  �� @ Governador Valadares, Minas Gerais https:...   \n",
       "3                        ��� https://t.co/BnDsO34qK0   \n",
       "4  ��� PSOL vai questionar aumento de vereadores ...   \n",
       "\n",
       "   Geo Coordinates.latitude  Geo Coordinates.longitude User Location  \\\n",
       "0                       NaN                        NaN        Brasil   \n",
       "1                  -41.9333                     -18.85           NaN   \n",
       "2                  -41.9333                     -18.85           NaN   \n",
       "3                       NaN                        NaN           NaN   \n",
       "4                       NaN                        NaN           NaN   \n",
       "\n",
       "               Username User Screen Name  Retweet Count Classificacao  ...  \\\n",
       "0  Leonardo C Schneider    LeoCSchneider              0        Neutro  ...   \n",
       "1               Wândell         klefnews              0        Neutro  ...   \n",
       "2               Wândell         klefnews              0        Neutro  ...   \n",
       "3         Ana estudando  estudandoconcur              0        Neutro  ...   \n",
       "4                 Emily         Milly777              0      Negativo  ...   \n",
       "\n",
       "  Unnamed: 15  Unnamed: 16  Unnamed: 17  Unnamed: 18  Unnamed: 19  \\\n",
       "0         NaN          NaN          NaN          NaN          NaN   \n",
       "1         NaN          NaN          NaN          NaN          NaN   \n",
       "2         NaN          NaN          NaN          NaN          NaN   \n",
       "3         NaN          NaN          NaN          NaN          NaN   \n",
       "4         NaN          NaN          NaN          NaN          NaN   \n",
       "\n",
       "   Unnamed: 20  Unnamed: 21  Unnamed: 22  Unnamed: 23  Unnamed: 24  \n",
       "0          NaN          NaN          NaN          NaN          NaN  \n",
       "1          NaN          NaN          NaN          NaN          NaN  \n",
       "2          NaN          NaN          NaN          NaN          NaN  \n",
       "3          NaN          NaN          NaN          NaN          NaN  \n",
       "4          NaN          NaN          NaN          NaN          NaN  \n",
       "\n",
       "[5 rows x 26 columns]"
      ]
     },
     "execution_count": 3,
     "metadata": {},
     "output_type": "execute_result"
    }
   ],
   "source": [
    "df.head()"
   ]
  },
  {
   "cell_type": "markdown",
   "metadata": {},
   "source": [
    "``No dataset há basicamente 3 colunas de interesse: o twitt (texto), o sentimento rotulado pela equipe e a data.``"
   ]
  },
  {
   "cell_type": "markdown",
   "metadata": {
    "colab_type": "text",
    "id": "S2VSXvUwfHHL"
   },
   "source": [
    "**Conta a quantidade de linhas de tweets neutros, positivos e negativos**\n",
    "\n",
    "O trabalho presente é multilabel (i.e., não é binário [positivo/negativo, por exemplo])\n",
    "\n",
    "Distribuição é balanceada entre as classes!"
   ]
  },
  {
   "cell_type": "code",
   "execution_count": 4,
   "metadata": {
    "colab": {
     "base_uri": "https://localhost:8080/",
     "height": 86
    },
    "colab_type": "code",
    "executionInfo": {
     "elapsed": 721,
     "status": "ok",
     "timestamp": 1566432002201,
     "user": {
      "displayName": "Rodrigo Santana Ferreira",
      "photoUrl": "https://lh3.googleusercontent.com/a-/AAuE7mDmYh9EbTthNVFuzwQSdLXKIk98sJfQinB_DD4VqA=s64",
      "userId": "14710330936720624047"
     },
     "user_tz": 180
    },
    "id": "-8EpKNzMfwNH",
    "outputId": "5af75f4a-c91b-448a-bee5-6e87ce213ef3"
   },
   "outputs": [
    {
     "data": {
      "text/plain": [
       "Positivo    3300\n",
       "Neutro      2453\n",
       "Negativo    2446\n",
       "Name: Classificacao, dtype: int64"
      ]
     },
     "execution_count": 4,
     "metadata": {},
     "output_type": "execute_result"
    }
   ],
   "source": [
    "df.Classificacao.value_counts()"
   ]
  },
  {
   "cell_type": "code",
   "execution_count": 5,
   "metadata": {
    "colab": {
     "base_uri": "https://localhost:8080/",
     "height": 321
    },
    "colab_type": "code",
    "executionInfo": {
     "elapsed": 784,
     "status": "ok",
     "timestamp": 1566432044846,
     "user": {
      "displayName": "Rodrigo Santana Ferreira",
      "photoUrl": "https://lh3.googleusercontent.com/a-/AAuE7mDmYh9EbTthNVFuzwQSdLXKIk98sJfQinB_DD4VqA=s64",
      "userId": "14710330936720624047"
     },
     "user_tz": 180
    },
    "id": "aIj5Lin3fHHT",
    "outputId": "04d34e78-aa8d-4d4d-9627-c41817f80a9b"
   },
   "outputs": [
    {
     "data": {
      "text/plain": [
       "<AxesSubplot:>"
      ]
     },
     "execution_count": 5,
     "metadata": {},
     "output_type": "execute_result"
    },
    {
     "data": {
      "image/png": "[encoded data removed]",
      "text/plain": [
       "<Figure size 432x288 with 1 Axes>"
      ]
     },
     "metadata": {
      "needs_background": "light"
     },
     "output_type": "display_data"
    }
   ],
   "source": [
    "%matplotlib inline\n",
    "df.Classificacao.value_counts().plot(kind='bar')"
   ]
  },
  {
   "cell_type": "code",
   "execution_count": 6,
   "metadata": {
    "colab": {
     "base_uri": "https://localhost:8080/",
     "height": 480
    },
    "colab_type": "code",
    "executionInfo": {
     "elapsed": 630,
     "status": "ok",
     "timestamp": 1566432057313,
     "user": {
      "displayName": "Rodrigo Santana Ferreira",
      "photoUrl": "https://lh3.googleusercontent.com/a-/AAuE7mDmYh9EbTthNVFuzwQSdLXKIk98sJfQinB_DD4VqA=s64",
      "userId": "14710330936720624047"
     },
     "user_tz": 180
    },
    "id": "fN7k0LCMfHHV",
    "outputId": "05b89ce7-7cd4-42e5-b02d-2375e3ef2a6f"
   },
   "outputs": [
    {
     "data": {
      "text/plain": [
       "Unnamed: 0                   8199\n",
       "Created At                   8199\n",
       "Text                         8199\n",
       "Geo Coordinates.latitude      104\n",
       "Geo Coordinates.longitude     104\n",
       "User Location                5489\n",
       "Username                     8199\n",
       "User Screen Name             8199\n",
       "Retweet Count                8199\n",
       "Classificacao                8199\n",
       "Observação                      1\n",
       "Unnamed: 10                     0\n",
       "Unnamed: 11                     0\n",
       "Unnamed: 12                     0\n",
       "Unnamed: 13                     0\n",
       "Unnamed: 14                     0\n",
       "Unnamed: 15                     0\n",
       "Unnamed: 16                     0\n",
       "Unnamed: 17                     0\n",
       "Unnamed: 18                     0\n",
       "Unnamed: 19                     0\n",
       "Unnamed: 20                     0\n",
       "Unnamed: 21                     0\n",
       "Unnamed: 22                     0\n",
       "Unnamed: 23                     0\n",
       "Unnamed: 24                     0\n",
       "dtype: int64"
      ]
     },
     "execution_count": 6,
     "metadata": {},
     "output_type": "execute_result"
    }
   ],
   "source": [
    "df.count()"
   ]
  },
  {
   "cell_type": "markdown",
   "metadata": {
    "colab_type": "text",
    "id": "IWenqwCnfHHZ"
   },
   "source": [
    "## Pre-Processamento dos Dados\n",
    "\n",
    "Base apresenta um problema de dados com a coleta. Passo inicial é limpar a base. Por exemplo, pode haver tweets duplicados por causa dos re-tweets, que acaba mudando apenas um ponto, por exemplo, no dataset, mas que representa a mesma informação."
   ]
  },
  {
   "cell_type": "markdown",
   "metadata": {
    "colab_type": "text",
    "id": "2DuvWYo9fHHZ"
   },
   "source": [
    "* Remove linhas duplicadas na base de dados\n",
    "    - Problema na coleta dos dados.\n",
    "* Remove Stopwords\n",
    "* Stemming ou Lemmatization\n",
    "* Remove caracteres indesejados como links etc."
   ]
  },
  {
   "cell_type": "code",
   "execution_count": 7,
   "metadata": {
    "colab": {},
    "colab_type": "code",
    "id": "m23ema2FfHHa"
   },
   "outputs": [],
   "source": [
    "df.drop_duplicates(['Text'], inplace=True)  # usando como referência para duplicatas a coluna texto, deixando as outras poderem variar livremente"
   ]
  },
  {
   "cell_type": "code",
   "execution_count": 8,
   "metadata": {
    "colab": {
     "base_uri": "https://localhost:8080/",
     "height": 34
    },
    "colab_type": "code",
    "executionInfo": {
     "elapsed": 631,
     "status": "ok",
     "timestamp": 1566433535153,
     "user": {
      "displayName": "Rodrigo Santana Ferreira",
      "photoUrl": "https://lh3.googleusercontent.com/a-/AAuE7mDmYh9EbTthNVFuzwQSdLXKIk98sJfQinB_DD4VqA=s64",
      "userId": "14710330936720624047"
     },
     "user_tz": 180
    },
    "id": "SkPMW1UZfHHd",
    "outputId": "8b73363b-73c7-46eb-87f3-92d6b49810b0"
   },
   "outputs": [
    {
     "data": {
      "text/plain": [
       "5765"
      ]
     },
     "execution_count": 8,
     "metadata": {},
     "output_type": "execute_result"
    }
   ],
   "source": [
    "df.Text.count() # com tratamento, fomos de 8199 tweets para 5765.O tratamento feito na live foi só de duplicatas, mas deixou destaque com os pontos acima de que há outros tratamentos desejáveis mas que fugiiam do foco da live"
   ]
  },
  {
   "cell_type": "markdown",
   "metadata": {
    "colab_type": "text",
    "id": "J0uUvFajfHHf"
   },
   "source": [
    "## **Separando tweets e suas Classes**\n",
    "\n",
    "Objetivo mencionado foi deixar mais claro o processo a ser apresentado."
   ]
  },
  {
   "cell_type": "code",
   "execution_count": 9,
   "metadata": {
    "colab": {},
    "colab_type": "code",
    "id": "Uh7xRoHNfHHf"
   },
   "outputs": [],
   "source": [
    "tweets = df['Text']\n",
    "classes = df['Classificacao']"
   ]
  },
  {
   "cell_type": "markdown",
   "metadata": {
    "colab_type": "text",
    "id": "pdBk0tyefHHh"
   },
   "source": [
    "**Instala bibliotecas e baixa a base de dados**\n",
    "\n",
    "> NLTK significa Natural Language Toolkit, que é algo como uma caixa de ferramentas para linguagem natural. Essa biblioteca foi desenvolvida na universidade da Pennsylvania e é totalmente voltada para o contexto acadêmico. Ela contém vários algoritmos já implementados para resolver os mais diversos tipos de tratamento. Uma característica da NLTK é que ela foi construída como um manipulador de listas e strings, isso quer dizer que, ela recebe uma string ou lista, faz transformações e depois retorna também os mesmo tipos. ([Alura](https://www.alura.com.br/artigos/nltk-vs-spacy))\n",
    "\n",
    "Basicamente é um kit de ferramentas para se trabalhar com NLP.\n",
    "\n",
    "Pode ser útil: https://www.facom.ufu.br/~wendelmelo/ori201902/aula_nltk.txt"
   ]
  },
  {
   "cell_type": "code",
   "execution_count": 10,
   "metadata": {
    "colab": {
     "base_uri": "https://localhost:8080/",
     "height": 171
    },
    "colab_type": "code",
    "executionInfo": {
     "elapsed": 1648,
     "status": "ok",
     "timestamp": 1566432596869,
     "user": {
      "displayName": "Rodrigo Santana Ferreira",
      "photoUrl": "https://lh3.googleusercontent.com/a-/AAuE7mDmYh9EbTthNVFuzwQSdLXKIk98sJfQinB_DD4VqA=s64",
      "userId": "14710330936720624047"
     },
     "user_tz": 180
    },
    "id": "M_opr6SFfHHi",
    "outputId": "9df586bb-0936-4331-d0bb-ea067c64a15b"
   },
   "outputs": [
    {
     "name": "stderr",
     "output_type": "stream",
     "text": [
      "[nltk_data] Downloading package stopwords to C:\\Users\\Maria\n",
      "[nltk_data]     Rafaela\\AppData\\Roaming\\nltk_data...\n",
      "[nltk_data]   Package stopwords is already up-to-date!\n",
      "[nltk_data] Downloading package rslp to C:\\Users\\Maria\n",
      "[nltk_data]     Rafaela\\AppData\\Roaming\\nltk_data...\n",
      "[nltk_data]   Package rslp is already up-to-date!\n",
      "[nltk_data] Downloading package punkt to C:\\Users\\Maria\n",
      "[nltk_data]     Rafaela\\AppData\\Roaming\\nltk_data...\n",
      "[nltk_data]   Package punkt is already up-to-date!\n",
      "[nltk_data] Downloading package wordnet to C:\\Users\\Maria\n",
      "[nltk_data]     Rafaela\\AppData\\Roaming\\nltk_data...\n",
      "[nltk_data]   Package wordnet is already up-to-date!\n"
     ]
    },
    {
     "data": {
      "text/plain": [
       "True"
      ]
     },
     "execution_count": 10,
     "metadata": {},
     "output_type": "execute_result"
    }
   ],
   "source": [
    "import nltk\n",
    "\n",
    "nltk.download('stopwords') # ajuda a tratar palavras frequentes que não são muito relevantes, como o \"e\", \"o\", \"de\", por exemplo\n",
    "nltk.download('rslp') # podemos extrair radicais de palavras em portugues e também possui ferramentas para a classificaÃ§Ã£o de palavras\n",
    "nltk.download('punkt') # permite tokenizar textos\n",
    "nltk.download('wordnet') # dicionário gigante de informações, léxicos, etc."
   ]
  },
  {
   "cell_type": "markdown",
   "metadata": {
    "colab_type": "text",
    "id": "2NV3syRNfHHk"
   },
   "source": [
    "**Funções de Pre-processamento de dados**"
   ]
  },
  {
   "cell_type": "code",
   "execution_count": 11,
   "metadata": {
    "colab": {},
    "colab_type": "code",
    "id": "M6HDfRzcfHHk"
   },
   "outputs": [],
   "source": [
    "def RemoveStopWords(instancia):\n",
    "    '''\n",
    "    Carrega uma lista de stopwords em português e a função\n",
    "    intera sobre cada palavra da frase fornecida e se encontrou\n",
    "    uma palavra que não é um stopword, então a mantém. Caso seja, remove\n",
    "    a palavra da frase e no final concatena o que sobrou e retorna \n",
    "    o resultado.\n",
    "    '''\n",
    "    stopwords = set(nltk.corpus.stopwords.words('portuguese'))\n",
    "    palavras = [i for i in instancia.split() if not i in stopwords]\n",
    "    return (\" \".join(palavras))"
   ]
  },
  {
   "cell_type": "code",
   "execution_count": 12,
   "metadata": {
    "colab": {},
    "colab_type": "code",
    "id": "q8FS-ZoJfHHn"
   },
   "outputs": [],
   "source": [
    "def Stemming(instancia):\n",
    "    '''\n",
    "    Faz a mesma coisa da função anterior, mas aplicando o\n",
    "    método da função stem. Ele reduz a palavra ao seu sufixo/radcal\n",
    "    (exemplo: frequentemento, frequentou, frequentava --> todas se \n",
    "    tornam \"frequentar\" - o que ajuda a reduzir o vocabulário.).\n",
    "    '''\n",
    "    stemmer = nltk.stem.RSLPStemmer()\n",
    "    palavras = []\n",
    "    for w in instancia.split():\n",
    "        palavras.append(stemmer.stem(w))\n",
    "    return (\" \".join(palavras))"
   ]
  },
  {
   "cell_type": "code",
   "execution_count": 13,
   "metadata": {
    "colab": {},
    "colab_type": "code",
    "id": "NrLlbIaafHHp"
   },
   "outputs": [],
   "source": [
    "def Limpeza_dados(instancia):\n",
    "    '''\n",
    "    Remove links, pontos, virgulas,ponto e virgulas, etc dos tweets\n",
    "    '''\n",
    "    instancia = re.sub(r\"http\\S+\", \"\", instancia).lower().replace('.','').replace(';','').replace('-','').replace(':','').replace(')','')\n",
    "    return (instancia)"
   ]
  },
  {
   "cell_type": "code",
   "execution_count": 14,
   "metadata": {
    "colab": {},
    "colab_type": "code",
    "id": "it75oz2vhCyy"
   },
   "outputs": [],
   "source": [
    "from nltk.stem import WordNetLemmatizer\n",
    "wordnet_lemmatizer = WordNetLemmatizer()\n",
    "\n",
    "def Lemmatization(instancia):\n",
    "    '''\n",
    "    Aplica a lemmatização das palavras.\n",
    "    Contextualizando: A lematização pega uma palavra\n",
    "    e a decompõe em seu lema. Por exemplo, o verbo \n",
    "    \"walk\" pode aparecer como \"walking\", \"walks\" ou \n",
    "    \"walked\". As terminações flexionais como \"s\", \"ed\" \n",
    "    e \"ing\" são removidas. A lematização agrupa essas \n",
    "    palavras como seu lema, \"caminhar\". O problema é que\n",
    "    usa o dicionário do WordNet, pois não se encontrou um\n",
    "    dicionário específico para o português.\n",
    "    '''\n",
    "    palavras = []\n",
    "    for w in instancia.split():\n",
    "        palavras.append(wordnet_lemmatizer.lemmatize(w))\n",
    "    return (\" \".join(palavras))"
   ]
  },
  {
   "cell_type": "markdown",
   "metadata": {
    "colab_type": "text",
    "id": "TiATzqyZfHHs"
   },
   "source": [
    "**Entenda como funciona cada função**"
   ]
  },
  {
   "cell_type": "code",
   "execution_count": 15,
   "metadata": {
    "colab": {
     "base_uri": "https://localhost:8080/",
     "height": 34
    },
    "colab_type": "code",
    "executionInfo": {
     "elapsed": 669,
     "status": "ok",
     "timestamp": 1566432608016,
     "user": {
      "displayName": "Rodrigo Santana Ferreira",
      "photoUrl": "https://lh3.googleusercontent.com/a-/AAuE7mDmYh9EbTthNVFuzwQSdLXKIk98sJfQinB_DD4VqA=s64",
      "userId": "14710330936720624047"
     },
     "user_tz": 180
    },
    "id": "Jn7uqh9KfHHs",
    "outputId": "f6816f4d-0c47-4a7b-d8e7-8c8c91259202"
   },
   "outputs": [
    {
     "data": {
      "text/plain": [
       "'Eu gosto partido, votaria novamente nesse governante!'"
      ]
     },
     "execution_count": 15,
     "metadata": {},
     "output_type": "execute_result"
    }
   ],
   "source": [
    "# Problema: há palavras que ele considera stopwords mas que seria interessante manter\n",
    "RemoveStopWords('Eu não gosto do partido, e também não votaria novamente nesse governante!')"
   ]
  },
  {
   "cell_type": "code",
   "execution_count": 16,
   "metadata": {
    "colab": {
     "base_uri": "https://localhost:8080/",
     "height": 34
    },
    "colab_type": "code",
    "executionInfo": {
     "elapsed": 628,
     "status": "ok",
     "timestamp": 1566432674657,
     "user": {
      "displayName": "Rodrigo Santana Ferreira",
      "photoUrl": "https://lh3.googleusercontent.com/a-/AAuE7mDmYh9EbTthNVFuzwQSdLXKIk98sJfQinB_DD4VqA=s64",
      "userId": "14710330936720624047"
     },
     "user_tz": 180
    },
    "id": "YCEFse4ZfHHv",
    "outputId": "d8745b28-6748-468d-ed51-34749d85a57e"
   },
   "outputs": [
    {
     "data": {
      "text/plain": [
       "'eu não gost do partido, e também não vot nov ness governante!'"
      ]
     },
     "execution_count": 16,
     "metadata": {},
     "output_type": "execute_result"
    }
   ],
   "source": [
    "# Problema é que funciona mais em inglês que em português, já que retorna palavras que não existem no idioma\n",
    "Stemming('Eu não gosto do partido, e também não votaria novamente nesse governante!')"
   ]
  },
  {
   "cell_type": "code",
   "execution_count": 17,
   "metadata": {
    "colab": {
     "base_uri": "https://localhost:8080/",
     "height": 34
    },
    "colab_type": "code",
    "executionInfo": {
     "elapsed": 664,
     "status": "ok",
     "timestamp": 1566432742907,
     "user": {
      "displayName": "Rodrigo Santana Ferreira",
      "photoUrl": "https://lh3.googleusercontent.com/a-/AAuE7mDmYh9EbTthNVFuzwQSdLXKIk98sJfQinB_DD4VqA=s64",
      "userId": "14710330936720624047"
     },
     "user_tz": 180
    },
    "id": "F3riOVgGfHHz",
    "outputId": "70f19895-843a-496e-e0cd-565190bea9f8"
   },
   "outputs": [
    {
     "data": {
      "text/plain": [
       "'assita aqui o video do governador falando sobre a cemig   '"
      ]
     },
     "execution_count": 17,
     "metadata": {},
     "output_type": "execute_result"
    }
   ],
   "source": [
    "# Exemplo de remoção de link que não interessa\n",
    "Limpeza_dados('Assita aqui o video do Governador falando sobre a CEMIG https://www.uol.com.br :) ;)')"
   ]
  },
  {
   "cell_type": "code",
   "execution_count": 18,
   "metadata": {
    "colab": {
     "base_uri": "https://localhost:8080/",
     "height": 34
    },
    "colab_type": "code",
    "executionInfo": {
     "elapsed": 2702,
     "status": "ok",
     "timestamp": 1566432793862,
     "user": {
      "displayName": "Rodrigo Santana Ferreira",
      "photoUrl": "https://lh3.googleusercontent.com/a-/AAuE7mDmYh9EbTthNVFuzwQSdLXKIk98sJfQinB_DD4VqA=s64",
      "userId": "14710330936720624047"
     },
     "user_tz": 180
    },
    "id": "MEvt1kBghC9_",
    "outputId": "a3db5da9-ad56-4f55-c5cc-35032037167f"
   },
   "outputs": [
    {
     "data": {
      "text/plain": [
       "'Os carros são bonito'"
      ]
     },
     "execution_count": 18,
     "metadata": {},
     "output_type": "execute_result"
    }
   ],
   "source": [
    "# Limitado para o portugu~es. Carros, por exemplo, não mudou nada.\n",
    "Lemmatization('Os carros são bonitos')"
   ]
  },
  {
   "cell_type": "markdown",
   "metadata": {
    "colab_type": "text",
    "id": "s8JohAMlfHH3"
   },
   "source": [
    "**Aplica as 3 funções de Pre-processamento nos dados**"
   ]
  },
  {
   "cell_type": "code",
   "execution_count": 19,
   "metadata": {
    "colab": {},
    "colab_type": "code",
    "id": "0C2bY97JfHH4"
   },
   "outputs": [],
   "source": [
    "def Preprocessing(instancia):\n",
    "    \"\"\"\n",
    "    Aplica as três tarefas de pre-processamento todas juntas\n",
    "    em uma mesma função.\n",
    "    \"\"\"\n",
    "    stemmer = nltk.stem.RSLPStemmer()\n",
    "    instancia = re.sub(r\"http\\S+\", \"\", instancia).lower().replace('.','').replace(';','').replace('-','').replace(':','').replace(')','')\n",
    "    stopwords = set(nltk.corpus.stopwords.words('portuguese'))\n",
    "    palavras = [stemmer.stem(i) for i in instancia.split() if not i in stopwords]\n",
    "    return (\" \".join(palavras))\n",
    "\n",
    "# Aplica a função em todos os dados:\n",
    "tweets = [Preprocessing(i) for i in tweets]"
   ]
  },
  {
   "cell_type": "code",
   "execution_count": 20,
   "metadata": {
    "colab": {},
    "colab_type": "code",
    "id": "D77vjoRCfHH6"
   },
   "outputs": [
    {
     "data": {
      "text/plain": [
       "'gost partido, vot nov ness govern assit vide aqu'"
      ]
     },
     "execution_count": 20,
     "metadata": {},
     "output_type": "execute_result"
    }
   ],
   "source": [
    "Preprocessing('Eu não gosto do partido, e também não votaria novamente nesse governante. Assita o video aqui https:// :)')"
   ]
  },
  {
   "cell_type": "markdown",
   "metadata": {
    "colab_type": "text",
    "id": "ncXEOQOCfHH8"
   },
   "source": [
    "**Visualize os dados e veja como ficou após o pré-processamento**\n",
    "\n",
    "Resultado não é tão bom, já que tira a verdadeira mensagem dos dados, os mantendo sem sentido."
   ]
  },
  {
   "cell_type": "code",
   "execution_count": 21,
   "metadata": {
    "colab": {
     "base_uri": "https://localhost:8080/",
     "height": 894
    },
    "colab_type": "code",
    "executionInfo": {
     "elapsed": 626,
     "status": "ok",
     "timestamp": 1566432904501,
     "user": {
      "displayName": "Rodrigo Santana Ferreira",
      "photoUrl": "https://lh3.googleusercontent.com/a-/AAuE7mDmYh9EbTthNVFuzwQSdLXKIk98sJfQinB_DD4VqA=s64",
      "userId": "14710330936720624047"
     },
     "user_tz": 180
    },
    "id": "4Fg7uWnpfHH9",
    "outputId": "d604c27d-2e7c-4448-a641-87a1a0aabe46"
   },
   "outputs": [
    {
     "data": {
      "text/plain": [
       "['���⛪ @ catedr sant antôni govern valadares/mg',\n",
       " '� @ govern valadares, min geral',\n",
       " '�� @ govern valadares, min geral',\n",
       " '���',\n",
       " '��� psol vai quest aument vere prefeit bh justiç poli est min',\n",
       " '\" bom band morto\" deput cab júli conden fic ineleg 10 ano poli est min',\n",
       " '\"e 25% min diz torc tim nenhum,mesm dentr est atléticomg cruz pq?\"',\n",
       " '\"a gigantesc barb mal\" destaqu cadern cult est min',\n",
       " '\"bb govern min tr disput sobr depósit judiciais\"',\n",
       " '\"com vc bh fic pequena!\" bel horizont (pron [bɛloɾiˈzõntʃi][10] capit est mg, áre aproximad 331 km²',\n",
       " '\"daí gent visit govern valadares\" \"qu lug eh mãe?\" \"mg, gent um parent la\" man ond q parent',\n",
       " '\"é bonit bonita\" #latergr #ibiturun #hom @ govern valadares, min geral',\n",
       " '\"err desconhecido\" mato! aliás, secret estad fazend tá assim mg precis dinh não, governador?',\n",
       " '\"la la land cant estações\" arras glob our est min',\n",
       " '\"la la land cant estações\" arras glob our est min',\n",
       " '\"lo abusos, aun en el est má sólido, son min sord tard tempr estallan\" joseph sanialdubay',\n",
       " '\"mesm dinh caix govern min geral compr 2 (doil helicópteros\" doi helicópter min geral #2017 s1',\n",
       " '\"model seguranç legado\", diz cláudi beat poli est min',\n",
       " '\"model seguranç legado\", diz cláudi beat poli est min',\n",
       " '\"model seguranç legado\", diz cláudi beat poli est min',\n",
       " '\"o govern min geral coment assunt \"',\n",
       " '\"o govern feder public dia 27 dezembr 2016, med provisór 764/16 permit diferenci',\n",
       " '\"políc feder acab divulg encontr prov apart lula, 4ª série\" jorn est min',\n",
       " '\"pra estação\" lot nest sáb ver bh geral est min',\n",
       " '\"represent ferrament monitor educ red estad minas, secret est',\n",
       " '\"us aeronav pertenc est mg, domingo, p/ fim pessoais, clar desvi finalidade\"',\n",
       " '\"vou post uma curios sobr corp humano\" *o jap men est min gerais* ????¿¿¿?¿',\n",
       " '#acordaminas!!! govern fern pimentel, flagr us helicópter est mg',\n",
       " '#acordaminas!!!! pov min pé bund dess canalh',\n",
       " '#alert nom cee utiliz golp est',\n",
       " '#bet #betalab #mg afili glob apresent am demit após critic governador…',\n",
       " '#bet #betalab #mg cao presídi am ped apoi uni seil dia após massacr',\n",
       " '#bet #betalab #mg cao presídi tem cármen lúc reún debat cris',\n",
       " '#bet #betalab #mg cris carcerár govern rora ped forç nacion tem',\n",
       " '#bet #betalab #mg cris carcerár secret sp diz guerr facç país',\n",
       " '#bet #betalab #mg cris polít df agrav rollemberg exon vicegovern cargo… #timbet #rt #brasil',\n",
       " '#bet #betalab #mg escal viol presídi am ped apoi forç nacional…',\n",
       " '#bet #betalab #mg escal viol crim organiz brasil disput 27…',\n",
       " '#bet #betalab #mg est afirm ter sid notific apes decis judicial, reajuste……',\n",
       " '#bet #betalab #mg est espírit paulist \"voz\" trânsito, buzin reflet pressa,……',\n",
       " '#bet #betalab #mg est fal part pmdb qu barr vet tem negoci de……',\n",
       " '#bet #betalab #mg exministr outr serv pt mantêm carg estratégicos… #timbet #rt #brasil',\n",
       " \"#bet #betalab #mg expresid câm justiç suíç vê 'indíci concretos' contra…\",\n",
       " '#bet #betalab #mg govern calam financ bb avis justiç min tem…',\n",
       " \"#bet #betalab #mg sobr massacr pf facç 'cel comando' dentr prisão…\",\n",
       " '#bet #betalab #mg marketing vet med pae doaç sang capoe 1ª……',\n",
       " '#bet #betalab #mg massacr presídi manau govern am rebat ministr justiç e… #timbet #rt #brasil',\n",
       " '#bet #betalab #mg mudanç propost govern reform lib trabalh 12 hor alguns……',\n",
       " '#bet #betalab #mg muit págin investig \"qg\" lav jat reún 30 milhões……',\n",
       " '#bet #betalab #mg últ doi ano govern pag r$ 2,4 bi alv lav jat']"
      ]
     },
     "execution_count": 21,
     "metadata": {},
     "output_type": "execute_result"
    }
   ],
   "source": [
    "tweets[:50]"
   ]
  },
  {
   "cell_type": "code",
   "execution_count": null,
   "metadata": {},
   "outputs": [],
   "source": []
  },
  {
   "cell_type": "markdown",
   "metadata": {},
   "source": [
    "---\n",
    "\n",
    "**Carregando dados novamente, sem aplicar pre-processamento, para testar outra funcionalidade**"
   ]
  },
  {
   "cell_type": "code",
   "execution_count": 22,
   "metadata": {},
   "outputs": [],
   "source": [
    "df = pd.read_csv('Tweets_Mg.csv', encoding='utf-8')\n",
    "tweets = df['Text']\n",
    "classes = df['Classificacao']"
   ]
  },
  {
   "cell_type": "markdown",
   "metadata": {
    "colab_type": "text",
    "id": "N27Ueb96lu7W"
   },
   "source": [
    "**Tokenização**\n",
    "\n",
    "> Tokenização é o processo de dividir uma frase em palavras ou tokens individuais. Durante esse processo, pontuações e caracteres especiais são completamente removidos. É importante ressaltar que os tokens não são necessariamente apenas uma palavra.\n",
    "Quando temos palavras compostas, elas podem ter significados totalmente diferentes, como: “beija-flor” e “segunda-feira”. De uma forma geral, tokenização é o ato de simplificar o corpus e prepará-lo para os outros estágios de processamento. [Alura](https://www.alura.com.br/artigos/guia-nlp-conceitos-tecnicas)\n",
    "\n",
    "- Atente para o tipo de dados que você está trabalhando.\n",
    "\n",
    "- Exemplo: as vezes os dados tem algo específico como emojis ( :) ) cuja identificação é importante para a construção do dicionário de sentimentos. removê-los não se torna interessante. Por isso, usar um tokenizador adequado para o tipo de dado a ser trabalhado é importante para tornar a analise mais eficiente."
   ]
  },
  {
   "cell_type": "code",
   "execution_count": 23,
   "metadata": {
    "colab": {},
    "colab_type": "code",
    "id": "Dq6O2GxKlz-6"
   },
   "outputs": [],
   "source": [
    "from nltk.tokenize import word_tokenize"
   ]
  },
  {
   "cell_type": "code",
   "execution_count": 24,
   "metadata": {
    "colab": {},
    "colab_type": "code",
    "id": "hfkgKqmEmupe"
   },
   "outputs": [],
   "source": [
    "# Exemplo do que acontece ao se usar o tokenizador padrão do nltk\n",
    "# com ideia geral, sem nenhuma especificidade para o contexto real do\n",
    "# dado\n",
    "frase = 'A live do @blogminerando é show! :) :-) ;) =D'"
   ]
  },
  {
   "cell_type": "code",
   "execution_count": 25,
   "metadata": {
    "colab": {
     "base_uri": "https://localhost:8080/",
     "height": 291
    },
    "colab_type": "code",
    "executionInfo": {
     "elapsed": 655,
     "status": "ok",
     "timestamp": 1566433270683,
     "user": {
      "displayName": "Rodrigo Santana Ferreira",
      "photoUrl": "https://lh3.googleusercontent.com/a-/AAuE7mDmYh9EbTthNVFuzwQSdLXKIk98sJfQinB_DD4VqA=s64",
      "userId": "14710330936720624047"
     },
     "user_tz": 180
    },
    "id": "ixDJyhR7l3-S",
    "outputId": "f106f72e-9f51-44cb-d78e-08bbcfce4771"
   },
   "outputs": [
    {
     "data": {
      "text/plain": [
       "['A',\n",
       " 'live',\n",
       " 'do',\n",
       " '@',\n",
       " 'blogminerando',\n",
       " 'é',\n",
       " 'show',\n",
       " '!',\n",
       " ':',\n",
       " ')',\n",
       " ':',\n",
       " '-',\n",
       " ')',\n",
       " ';',\n",
       " ')',\n",
       " '=D']"
      ]
     },
     "execution_count": 25,
     "metadata": {},
     "output_type": "execute_result"
    }
   ],
   "source": [
    "# Percebe-se que há uma desconfiguração dos emojis e dos @s, por exemplo\n",
    "word_tokenize(frase)"
   ]
  },
  {
   "cell_type": "code",
   "execution_count": 26,
   "metadata": {
    "colab": {},
    "colab_type": "code",
    "id": "uJeCv1E4lA7O"
   },
   "outputs": [],
   "source": [
    "from nltk.tokenize import TweetTokenizer"
   ]
  },
  {
   "cell_type": "code",
   "execution_count": 27,
   "metadata": {
    "colab": {},
    "colab_type": "code",
    "id": "PsW12SRmle1u"
   },
   "outputs": [],
   "source": [
    "# Agora comparando com o tokenizador específico para trabalhar com dados do twitter\n",
    "tweet_tokenizer = TweetTokenizer()"
   ]
  },
  {
   "cell_type": "code",
   "execution_count": 28,
   "metadata": {
    "colab": {
     "base_uri": "https://localhost:8080/",
     "height": 206
    },
    "colab_type": "code",
    "executionInfo": {
     "elapsed": 621,
     "status": "ok",
     "timestamp": 1566433337083,
     "user": {
      "displayName": "Rodrigo Santana Ferreira",
      "photoUrl": "https://lh3.googleusercontent.com/a-/AAuE7mDmYh9EbTthNVFuzwQSdLXKIk98sJfQinB_DD4VqA=s64",
      "userId": "14710330936720624047"
     },
     "user_tz": 180
    },
    "id": "rlDjKW46mV51",
    "outputId": "8e862607-b09a-48ba-977b-4bf054279998"
   },
   "outputs": [
    {
     "data": {
      "text/plain": [
       "['A',\n",
       " 'live',\n",
       " 'do',\n",
       " '@blogminerando',\n",
       " 'é',\n",
       " 'show',\n",
       " '!',\n",
       " ':)',\n",
       " ':-)',\n",
       " ';)',\n",
       " '=D']"
      ]
     },
     "execution_count": 28,
     "metadata": {},
     "output_type": "execute_result"
    }
   ],
   "source": [
    "# Percebe-se a maior qualidade do tratamento\n",
    "tweet_tokenizer.tokenize(frase)"
   ]
  },
  {
   "cell_type": "markdown",
   "metadata": {
    "colab_type": "text",
    "id": "y_42starfHH_"
   },
   "source": [
    "## Criando o modelo"
   ]
  },
  {
   "cell_type": "markdown",
   "metadata": {
    "colab_type": "text",
    "id": "eGBtrI9zfHH_"
   },
   "source": [
    "**Instancia o objeto que faz a vetorização dos dados de texto**\n",
    "\n",
    "--> 55:46"
   ]
  },
  {
   "cell_type": "code",
   "execution_count": 30,
   "metadata": {},
   "outputs": [],
   "source": [
    "df.drop_duplicates(['Text'], inplace=True)"
   ]
  },
  {
   "cell_type": "code",
   "execution_count": 31,
   "metadata": {},
   "outputs": [
    {
     "data": {
      "text/plain": [
       "5765"
      ]
     },
     "execution_count": 31,
     "metadata": {},
     "output_type": "execute_result"
    }
   ],
   "source": [
    "df.Text.count()"
   ]
  },
  {
   "cell_type": "code",
   "execution_count": 32,
   "metadata": {},
   "outputs": [],
   "source": [
    "tweets = df['Text']\n",
    "classes = df['Classificacao']"
   ]
  },
  {
   "cell_type": "markdown",
   "metadata": {},
   "source": [
    "**A ideia de aplicação do modelo é treinar um algoritmo de ML para que ele possa identificar padrões nos dados (ex: quais são os tweets positivos e quais são os negativos, por exemplo.). Dessa forma, teremos um algoritmo classificador que vai nos dizer se o tweet é positivo ou negativo.**\n",
    "\n",
    "---"
   ]
  },
  {
   "cell_type": "markdown",
   "metadata": {},
   "source": [
    "``Passo 1: instanciar um objeto que faz a vetorização dos dados de treino. Isso se dá pois ao se trabalhar com texto, precisamos transformar esses dados em informações numéricas/binárias para que o algorítmo possa funcionar, já que ele não trabalha diretamente com palavras.``\n",
    "\n",
    "_**Exemplo de metodologia para estudo: Bag of words.** --> Essa metodologia pega as TODAS as frases fornecidas, quebra a frase em palavras e cada uma dessas palavras vira colunas em uma tabela (as palavras não se repetem). A partir disso, ao se passar frases que estão no dataset após a construção das colunas de interesse para que o algorítmo analise, ele analisa se na frase há alguma das palavras separadas nas colunas e constrói um dataset de frequência de quantas vezes a palavra apareceu nas amostras fornecidas. -> Se tem a palavra da coluna, a frase é representada por 1, caso não tenha, 0. Lembrando que cada linha representa uma frase e que esta frase passa então a ter uma representação binária._\n",
    "\n",
    "---\n",
    "\n",
    "Para fazer a vetorização na amostra de interesse, será usada a função _CountVectorizer_ e especificará para ele que está sendo falado de palavras (_analyser = \"word\"_) e o tokenizador que se deseja usar."
   ]
  },
  {
   "cell_type": "code",
   "execution_count": 33,
   "metadata": {
    "colab": {},
    "colab_type": "code",
    "id": "VOZ0Nej6fHIA"
   },
   "outputs": [],
   "source": [
    "vectorizer = CountVectorizer(analyzer=\"word\", tokenizer=tweet_tokenizer.tokenize)\n",
    "\n",
    "# vectorizer = CountVectorizer(analyzer=\"word\", tokenizer=tweet_tokenizer.tokenize, max_features=1000)   <-- bases muito grandes"
   ]
  },
  {
   "cell_type": "code",
   "execution_count": 35,
   "metadata": {},
   "outputs": [
    {
     "data": {
      "text/plain": [
       "CountVectorizer(tokenizer=<bound method TweetTokenizer.tokenize of <nltk.tokenize.casual.TweetTokenizer object at 0x00000202A4C17B80>>)"
      ]
     },
     "execution_count": 35,
     "metadata": {},
     "output_type": "execute_result"
    }
   ],
   "source": [
    "vectorizer"
   ]
  },
  {
   "cell_type": "markdown",
   "metadata": {
    "colab_type": "text",
    "id": "Kzs88XE1fHIC"
   },
   "source": [
    "**Aplica o vetorizador nos dados de texto**\n",
    "\n",
    "Etapa em que os dados serão transformados, i.e., mudança para binários."
   ]
  },
  {
   "cell_type": "code",
   "execution_count": 36,
   "metadata": {
    "colab": {
     "base_uri": "https://localhost:8080/",
     "height": 34
    },
    "colab_type": "code",
    "executionInfo": {
     "elapsed": 905,
     "status": "ok",
     "timestamp": 1566433922147,
     "user": {
      "displayName": "Rodrigo Santana Ferreira",
      "photoUrl": "https://lh3.googleusercontent.com/a-/AAuE7mDmYh9EbTthNVFuzwQSdLXKIk98sJfQinB_DD4VqA=s64",
      "userId": "14710330936720624047"
     },
     "user_tz": 180
    },
    "id": "bNmtvrUafHIC",
    "outputId": "97441218-e944-456b-e1bc-a9f01b5ce158"
   },
   "outputs": [
    {
     "data": {
      "text/plain": [
       "scipy.sparse.csr.csr_matrix"
      ]
     },
     "execution_count": 36,
     "metadata": {},
     "output_type": "execute_result"
    }
   ],
   "source": [
    "freq_tweets = vectorizer.fit_transform(tweets)\n",
    "type(freq_tweets)"
   ]
  },
  {
   "cell_type": "code",
   "execution_count": 37,
   "metadata": {},
   "outputs": [
    {
     "data": {
      "text/plain": [
       "<5765x13362 sparse matrix of type '<class 'numpy.int64'>'\n",
       "\twith 89767 stored elements in Compressed Sparse Row format>"
      ]
     },
     "execution_count": 37,
     "metadata": {},
     "output_type": "execute_result"
    }
   ],
   "source": [
    "freq_tweets"
   ]
  },
  {
   "cell_type": "markdown",
   "metadata": {
    "colab_type": "text",
    "id": "06Qgq0EIfHIH"
   },
   "source": [
    "**Formato (Linhas, Colunas) da matriz**"
   ]
  },
  {
   "cell_type": "code",
   "execution_count": 39,
   "metadata": {
    "colab": {
     "base_uri": "https://localhost:8080/",
     "height": 34
    },
    "colab_type": "code",
    "executionInfo": {
     "elapsed": 616,
     "status": "ok",
     "timestamp": 1566433939320,
     "user": {
      "displayName": "Rodrigo Santana Ferreira",
      "photoUrl": "https://lh3.googleusercontent.com/a-/AAuE7mDmYh9EbTthNVFuzwQSdLXKIk98sJfQinB_DD4VqA=s64",
      "userId": "14710330936720624047"
     },
     "user_tz": 180
    },
    "id": "bEQi20ajfHII",
    "outputId": "d8c06bc2-9578-4807-e5e4-76a71b71a542"
   },
   "outputs": [
    {
     "data": {
      "text/plain": [
       "(5765, 13362)"
      ]
     },
     "execution_count": 39,
     "metadata": {},
     "output_type": "execute_result"
    }
   ],
   "source": [
    "freq_tweets.shape # cada palavra da base se tornou uma coluna"
   ]
  },
  {
   "cell_type": "code",
   "execution_count": 41,
   "metadata": {},
   "outputs": [
    {
     "data": {
      "text/plain": [
       "(5765, 26)"
      ]
     },
     "execution_count": 41,
     "metadata": {},
     "output_type": "execute_result"
    }
   ],
   "source": [
    "df.shape # linhas seguem as mesmas do df original"
   ]
  },
  {
   "cell_type": "markdown",
   "metadata": {
    "colab_type": "text",
    "id": "lejKj5JCjKSx"
   },
   "source": [
    "**Treino do modelo de Machine Learning**"
   ]
  },
  {
   "cell_type": "code",
   "execution_count": 44,
   "metadata": {
    "colab": {
     "base_uri": "https://localhost:8080/",
     "height": 34
    },
    "colab_type": "code",
    "executionInfo": {
     "elapsed": 643,
     "status": "ok",
     "timestamp": 1566433974309,
     "user": {
      "displayName": "Rodrigo Santana Ferreira",
      "photoUrl": "https://lh3.googleusercontent.com/a-/AAuE7mDmYh9EbTthNVFuzwQSdLXKIk98sJfQinB_DD4VqA=s64",
      "userId": "14710330936720624047"
     },
     "user_tz": 180
    },
    "id": "NY5FcgiCfHIE",
    "outputId": "656da604-df16-4409-9f4a-18c32f662d06"
   },
   "outputs": [
    {
     "data": {
      "text/plain": [
       "MultinomialNB()"
      ]
     },
     "execution_count": 44,
     "metadata": {},
     "output_type": "execute_result"
    }
   ],
   "source": [
    "modelo = MultinomialNB() # modelo bastante usado para a analise de sentimentos\n",
    "modelo.fit(freq_tweets,classes) # lembrando: freq_tweets: matriz vetorizada, classes: dicionário de classificação de sentimentos dos tweets"
   ]
  },
  {
   "cell_type": "markdown",
   "metadata": {},
   "source": [
    "**Classificação original de tweets**"
   ]
  },
  {
   "cell_type": "code",
   "execution_count": 43,
   "metadata": {},
   "outputs": [
    {
     "data": {
      "text/plain": [
       "0         Neutro\n",
       "1         Neutro\n",
       "2         Neutro\n",
       "3         Neutro\n",
       "4       Negativo\n",
       "          ...   \n",
       "8194    Positivo\n",
       "8195    Positivo\n",
       "8196    Positivo\n",
       "8197    Positivo\n",
       "8198    Positivo\n",
       "Name: Classificacao, Length: 5765, dtype: object"
      ]
     },
     "execution_count": 43,
     "metadata": {},
     "output_type": "execute_result"
    }
   ],
   "source": [
    "classes"
   ]
  },
  {
   "cell_type": "markdown",
   "metadata": {
    "colab_type": "text",
    "id": "r_g3jIwCfHIL"
   },
   "source": [
    "**Matriz**"
   ]
  },
  {
   "cell_type": "code",
   "execution_count": 45,
   "metadata": {
    "colab": {
     "base_uri": "https://localhost:8080/",
     "height": 137
    },
    "colab_type": "code",
    "executionInfo": {
     "elapsed": 1124,
     "status": "ok",
     "timestamp": 1566434004358,
     "user": {
      "displayName": "Rodrigo Santana Ferreira",
      "photoUrl": "https://lh3.googleusercontent.com/a-/AAuE7mDmYh9EbTthNVFuzwQSdLXKIk98sJfQinB_DD4VqA=s64",
      "userId": "14710330936720624047"
     },
     "user_tz": 180
    },
    "id": "T5t9uHX7fHIL",
    "outputId": "f34bc4c5-0a8e-4da6-99ac-4219c3250004"
   },
   "outputs": [
    {
     "data": {
      "text/plain": [
       "array([[0, 0, 0, ..., 0, 0, 3],\n",
       "       [0, 0, 0, ..., 0, 0, 1],\n",
       "       [0, 0, 0, ..., 0, 0, 2],\n",
       "       ...,\n",
       "       [0, 0, 0, ..., 0, 0, 0],\n",
       "       [0, 0, 0, ..., 0, 0, 0],\n",
       "       [0, 0, 0, ..., 0, 0, 0]], dtype=int64)"
      ]
     },
     "execution_count": 45,
     "metadata": {},
     "output_type": "execute_result"
    }
   ],
   "source": [
    "freq_tweets.A"
   ]
  },
  {
   "cell_type": "markdown",
   "metadata": {
    "colab_type": "text",
    "id": "GIHIF5wafHIN"
   },
   "source": [
    "**Testando o modelo com algumas instâncias simples**\n",
    "\n",
    "- Teste básico antes de se rodar um cross validation"
   ]
  },
  {
   "cell_type": "code",
   "execution_count": 47,
   "metadata": {
    "colab": {},
    "colab_type": "code",
    "id": "RSDjpEc7fHIO"
   },
   "outputs": [],
   "source": [
    "# defina instâncias de teste dentro de uma lista\n",
    "testes = ['Esse governo está no início, vamos ver o que vai dar',\n",
    "          'Estou muito feliz com o governo de Minas esse ano',\n",
    "          'O estado de Minas Gerais decretou calamidade financeira!!!',\n",
    "          'A segurança desse país está deixando a desejar',\n",
    "          'O governador de Minas é mais uma vez do PT']"
   ]
  },
  {
   "cell_type": "markdown",
   "metadata": {
    "colab_type": "text",
    "id": "NhOg0rrQfHIP"
   },
   "source": [
    "**Aplica a função de Pré-processamento nos dados**\n",
    "\n",
    "- se o modelo foi realizado com os dados pre-processados, é necessário que os dados de testes também sejam pré-processados antes de se testar o modelo"
   ]
  },
  {
   "cell_type": "code",
   "execution_count": null,
   "metadata": {
    "colab": {},
    "colab_type": "code",
    "id": "9JLAwKhsfHIQ"
   },
   "outputs": [],
   "source": [
    "testes = [Preprocessing(i) for i in testes] # não foi executado pois não faz sentido pra esse caso. fica apenas como alerta!"
   ]
  },
  {
   "cell_type": "code",
   "execution_count": 48,
   "metadata": {
    "colab": {},
    "colab_type": "code",
    "id": "xX2jyVWnfHIS"
   },
   "outputs": [],
   "source": [
    "# Transforma os dados de teste em vetores de palavras para que seja possível passar para o classificador.\n",
    "freq_testes = vectorizer.transform(testes)"
   ]
  },
  {
   "cell_type": "code",
   "execution_count": 52,
   "metadata": {
    "colab": {
     "base_uri": "https://localhost:8080/",
     "height": 103
    },
    "colab_type": "code",
    "executionInfo": {
     "elapsed": 665,
     "status": "ok",
     "timestamp": 1566434142632,
     "user": {
      "displayName": "Rodrigo Santana Ferreira",
      "photoUrl": "https://lh3.googleusercontent.com/a-/AAuE7mDmYh9EbTthNVFuzwQSdLXKIk98sJfQinB_DD4VqA=s64",
      "userId": "14710330936720624047"
     },
     "user_tz": 180
    },
    "id": "i1Oe0lfcfHIU",
    "outputId": "2285e3ca-d5d2-488b-c0ba-20082ce00edd"
   },
   "outputs": [
    {
     "name": "stdout",
     "output_type": "stream",
     "text": [
      "Esse governo está no início, vamos ver o que vai dar --> Neutro\n",
      "\n",
      "\n",
      "Estou muito feliz com o governo de Minas esse ano --> Neutro\n",
      "\n",
      "\n",
      "O estado de Minas Gerais decretou calamidade financeira!!! --> Negativo\n",
      "\n",
      "\n",
      "A segurança desse país está deixando a desejar --> Neutro\n",
      "\n",
      "\n",
      "O governador de Minas é mais uma vez do PT --> Neutro\n",
      "\n",
      "\n"
     ]
    }
   ],
   "source": [
    "# Fazendo a classificação com o modelo treinado.\n",
    "for t, c in zip (testes,modelo.predict(freq_testes)):\n",
    "    print (t + \" --> \"+ c + '\\n\\n')"
   ]
  },
  {
   "cell_type": "markdown",
   "metadata": {},
   "source": [
    "> Lembrando que o que foi rodado é apenas um teste. O teste não permite dizer que o modelo é um bom modelo e se está funcionando bem. É necessário testar o classificador, validá-lo, rodar com mais dados, etc, para se ter uma métrica se o modelo está bom ou ruim. "
   ]
  },
  {
   "cell_type": "markdown",
   "metadata": {},
   "source": [
    "**Probabilidades de cada classe analisada no teste**\n",
    "\n",
    "\n",
    "_Exemplo: a primeira frase o modelo ficou entre negativo e neutro, mas classificou como neutro dada a maior probabilidade elencada_\n",
    "\n",
    "Pode ser último para impor condições ao modelo dada a probabilidade resultante. Ou seja, se a probabilidade de que uma gfrase seja classificada como x é de u%, pode-se esclher adotar a classificação ou tomar outra decisão com base em condicionantes.\n"
   ]
  },
  {
   "cell_type": "code",
   "execution_count": 55,
   "metadata": {
    "colab": {
     "base_uri": "https://localhost:8080/",
     "height": 120
    },
    "colab_type": "code",
    "executionInfo": {
     "elapsed": 644,
     "status": "ok",
     "timestamp": 1566434224590,
     "user": {
      "displayName": "Rodrigo Santana Ferreira",
      "photoUrl": "https://lh3.googleusercontent.com/a-/AAuE7mDmYh9EbTthNVFuzwQSdLXKIk98sJfQinB_DD4VqA=s64",
      "userId": "14710330936720624047"
     },
     "user_tz": 180
    },
    "id": "7BsTaayEfHIW",
    "outputId": "f008ad90-c586-4e44-e2bc-d04b8171d5ed"
   },
   "outputs": [
    {
     "name": "stdout",
     "output_type": "stream",
     "text": [
      "['Negativo' 'Neutro' 'Positivo']\n"
     ]
    },
    {
     "data": {
      "text/plain": [
       "array([[0.21, 0.79, 0.  ],\n",
       "       [0.04, 0.96, 0.  ],\n",
       "       [0.99, 0.01, 0.  ],\n",
       "       [0.01, 0.98, 0.  ],\n",
       "       [0.14, 0.86, 0.  ]])"
      ]
     },
     "execution_count": 55,
     "metadata": {},
     "output_type": "execute_result"
    }
   ],
   "source": [
    "print (modelo.classes_)\n",
    "modelo.predict_proba(freq_testes).round(2)"
   ]
  },
  {
   "cell_type": "markdown",
   "metadata": {
    "colab_type": "text",
    "id": "8lP-AkxtfHIZ"
   },
   "source": [
    "## **Tags de Negações**\n",
    "\n",
    "--> 1:11:06"
   ]
  },
  {
   "cell_type": "markdown",
   "metadata": {
    "colab_type": "text",
    "id": "hHCm2rqrfHIa"
   },
   "source": [
    "* Acrescenta uma tag _NEG encontrada após um 'não'.\n",
    "* Objetivo é dar mais peso para o modelo identificar uma inversão de sentimento da frase.\n",
    "* Exemplos: \n",
    "    - Eu gosto de cachorros, positivo.\n",
    "    - Eu **não** gosto de cachorros, negativo."
   ]
  },
  {
   "cell_type": "code",
   "execution_count": null,
   "metadata": {
    "colab": {},
    "colab_type": "code",
    "id": "NRgqopgQfHIb"
   },
   "outputs": [],
   "source": [
    "def marque_negacao(texto):\n",
    "    negacoes = ['não','not']\n",
    "    negacao_detectada = False\n",
    "    resultado = []\n",
    "    palavras = texto.split()\n",
    "    for p in palavras:\n",
    "        p = p.lower()\n",
    "        if negacao_detectada == True:\n",
    "            p = p + '_NEG'\n",
    "        if p in negacoes:\n",
    "            negacao_detectada = True\n",
    "        resultado.append(p)\n",
    "    return (\" \".join(resultado))"
   ]
  },
  {
   "cell_type": "markdown",
   "metadata": {
    "colab_type": "text",
    "id": "4M4dM-IMfHId"
   },
   "source": [
    "**Exemplos de utilização da tag de negações**"
   ]
  },
  {
   "cell_type": "code",
   "execution_count": 44,
   "metadata": {
    "colab": {
     "base_uri": "https://localhost:8080/",
     "height": 34
    },
    "colab_type": "code",
    "executionInfo": {
     "elapsed": 638,
     "status": "ok",
     "timestamp": 1566434753909,
     "user": {
      "displayName": "Rodrigo Santana Ferreira",
      "photoUrl": "https://lh3.googleusercontent.com/a-/AAuE7mDmYh9EbTthNVFuzwQSdLXKIk98sJfQinB_DD4VqA=s64",
      "userId": "14710330936720624047"
     },
     "user_tz": 180
    },
    "id": "wnpgrQRhfHId",
    "outputId": "16b7302b-6cf8-496c-e643-dfc86ae2ee0f"
   },
   "outputs": [
    {
     "data": {
      "text/plain": [
       "'eu gosto do partido, votaria novamente nesse governante!'"
      ]
     },
     "execution_count": 44,
     "metadata": {
      "tags": []
     },
     "output_type": "execute_result"
    }
   ],
   "source": [
    "marque_negacao('Eu gosto do partido, votaria novamente nesse governante!')"
   ]
  },
  {
   "cell_type": "code",
   "execution_count": 46,
   "metadata": {
    "colab": {
     "base_uri": "https://localhost:8080/",
     "height": 54
    },
    "colab_type": "code",
    "executionInfo": {
     "elapsed": 595,
     "status": "ok",
     "timestamp": 1566434784835,
     "user": {
      "displayName": "Rodrigo Santana Ferreira",
      "photoUrl": "https://lh3.googleusercontent.com/a-/AAuE7mDmYh9EbTthNVFuzwQSdLXKIk98sJfQinB_DD4VqA=s64",
      "userId": "14710330936720624047"
     },
     "user_tz": 180
    },
    "id": "8VAWpxI3fHIf",
    "outputId": "32600e4d-ae70-45ac-8122-40c24ece5e39"
   },
   "outputs": [
    {
     "data": {
      "text/plain": [
       "'eu não gosto_NEG do_NEG partido_NEG e_NEG também_NEG não_NEG votaria_NEG novamente_NEG nesse_NEG governante!_NEG'"
      ]
     },
     "execution_count": 46,
     "metadata": {
      "tags": []
     },
     "output_type": "execute_result"
    }
   ],
   "source": [
    "marque_negacao('Eu Não gosto do partido e também não votaria novamente nesse governante!')"
   ]
  },
  {
   "cell_type": "markdown",
   "metadata": {
    "colab_type": "text",
    "id": "2_7GZsu8fHIi"
   },
   "source": [
    "## **Criando modelos com Pipelines**"
   ]
  },
  {
   "cell_type": "markdown",
   "metadata": {
    "colab_type": "text",
    "id": "DDGtt4u0fHIj"
   },
   "source": [
    "* Pipelines são interessantes para reduzir código e automatizar fluxos"
   ]
  },
  {
   "cell_type": "code",
   "execution_count": null,
   "metadata": {
    "colab": {},
    "colab_type": "code",
    "id": "eQEWzXphfHIj"
   },
   "outputs": [],
   "source": [
    "from sklearn.pipeline import Pipeline"
   ]
  },
  {
   "cell_type": "code",
   "execution_count": null,
   "metadata": {
    "colab": {},
    "colab_type": "code",
    "id": "hbks3HWdfHIm"
   },
   "outputs": [],
   "source": [
    "pipeline_simples = Pipeline([\n",
    "  ('counts', CountVectorizer()),\n",
    "  ('classifier', MultinomialNB())\n",
    "])"
   ]
  },
  {
   "cell_type": "markdown",
   "metadata": {
    "colab_type": "text",
    "id": "Au6K0aJffHIs"
   },
   "source": [
    "* Pipeline que atribui tag de negacoes nas palavras"
   ]
  },
  {
   "cell_type": "code",
   "execution_count": null,
   "metadata": {
    "colab": {},
    "colab_type": "code",
    "id": "zn-x4LvLfHIt"
   },
   "outputs": [],
   "source": [
    "pipeline_negacoes = Pipeline([\n",
    "  ('counts', CountVectorizer(tokenizer=lambda text: marque_negacao(text))),\n",
    "  ('classifier', MultinomialNB())\n",
    "])"
   ]
  },
  {
   "cell_type": "code",
   "execution_count": 51,
   "metadata": {
    "colab": {
     "base_uri": "https://localhost:8080/",
     "height": 282
    },
    "colab_type": "code",
    "executionInfo": {
     "elapsed": 629,
     "status": "ok",
     "timestamp": 1566435026982,
     "user": {
      "displayName": "Rodrigo Santana Ferreira",
      "photoUrl": "https://lh3.googleusercontent.com/a-/AAuE7mDmYh9EbTthNVFuzwQSdLXKIk98sJfQinB_DD4VqA=s64",
      "userId": "14710330936720624047"
     },
     "user_tz": 180
    },
    "id": "hRbBD5HlfHIx",
    "outputId": "336ed2f8-dfca-415a-fde2-e638d35140fa"
   },
   "outputs": [
    {
     "data": {
      "text/plain": [
       "Pipeline(memory=None,\n",
       "         steps=[('counts',\n",
       "                 CountVectorizer(analyzer='word', binary=False,\n",
       "                                 decode_error='strict',\n",
       "                                 dtype=<class 'numpy.int64'>, encoding='utf-8',\n",
       "                                 input='content', lowercase=True, max_df=1.0,\n",
       "                                 max_features=None, min_df=1,\n",
       "                                 ngram_range=(1, 1), preprocessor=None,\n",
       "                                 stop_words=None, strip_accents=None,\n",
       "                                 token_pattern='(?u)\\\\b\\\\w\\\\w+\\\\b',\n",
       "                                 tokenizer=None, vocabulary=None)),\n",
       "                ('classifier',\n",
       "                 MultinomialNB(alpha=1.0, class_prior=None, fit_prior=True))],\n",
       "         verbose=False)"
      ]
     },
     "execution_count": 51,
     "metadata": {
      "tags": []
     },
     "output_type": "execute_result"
    }
   ],
   "source": [
    "pipeline_simples.fit(tweets,classes)"
   ]
  },
  {
   "cell_type": "code",
   "execution_count": 52,
   "metadata": {
    "colab": {
     "base_uri": "https://localhost:8080/",
     "height": 177
    },
    "colab_type": "code",
    "executionInfo": {
     "elapsed": 650,
     "status": "ok",
     "timestamp": 1566435089748,
     "user": {
      "displayName": "Rodrigo Santana Ferreira",
      "photoUrl": "https://lh3.googleusercontent.com/a-/AAuE7mDmYh9EbTthNVFuzwQSdLXKIk98sJfQinB_DD4VqA=s64",
      "userId": "14710330936720624047"
     },
     "user_tz": 180
    },
    "id": "X5IGLvsefHIy",
    "outputId": "94196630-ad71-468f-de98-2f2209da837d"
   },
   "outputs": [
    {
     "data": {
      "text/plain": [
       "[('counts',\n",
       "  CountVectorizer(analyzer='word', binary=False, decode_error='strict',\n",
       "                  dtype=<class 'numpy.int64'>, encoding='utf-8', input='content',\n",
       "                  lowercase=True, max_df=1.0, max_features=None, min_df=1,\n",
       "                  ngram_range=(1, 1), preprocessor=None, stop_words=None,\n",
       "                  strip_accents=None, token_pattern='(?u)\\\\b\\\\w\\\\w+\\\\b',\n",
       "                  tokenizer=None, vocabulary=None)),\n",
       " ('classifier', MultinomialNB(alpha=1.0, class_prior=None, fit_prior=True))]"
      ]
     },
     "execution_count": 52,
     "metadata": {
      "tags": []
     },
     "output_type": "execute_result"
    }
   ],
   "source": [
    "pipeline_simples.steps"
   ]
  },
  {
   "cell_type": "markdown",
   "metadata": {
    "colab_type": "text",
    "id": "LyE8h7lEfHI0"
   },
   "source": [
    "* Gera o modelo de negações"
   ]
  },
  {
   "cell_type": "code",
   "execution_count": 53,
   "metadata": {
    "colab": {
     "base_uri": "https://localhost:8080/",
     "height": 299
    },
    "colab_type": "code",
    "executionInfo": {
     "elapsed": 676,
     "status": "ok",
     "timestamp": 1566435119571,
     "user": {
      "displayName": "Rodrigo Santana Ferreira",
      "photoUrl": "https://lh3.googleusercontent.com/a-/AAuE7mDmYh9EbTthNVFuzwQSdLXKIk98sJfQinB_DD4VqA=s64",
      "userId": "14710330936720624047"
     },
     "user_tz": 180
    },
    "id": "AJnMHmwSfHI1",
    "outputId": "a28ee45a-6c15-4e04-da0e-b00c8bc1194e"
   },
   "outputs": [
    {
     "data": {
      "text/plain": [
       "Pipeline(memory=None,\n",
       "         steps=[('counts',\n",
       "                 CountVectorizer(analyzer='word', binary=False,\n",
       "                                 decode_error='strict',\n",
       "                                 dtype=<class 'numpy.int64'>, encoding='utf-8',\n",
       "                                 input='content', lowercase=True, max_df=1.0,\n",
       "                                 max_features=None, min_df=1,\n",
       "                                 ngram_range=(1, 1), preprocessor=None,\n",
       "                                 stop_words=None, strip_accents=None,\n",
       "                                 token_pattern='(?u)\\\\b\\\\w\\\\w+\\\\b',\n",
       "                                 tokenizer=<function <lambda> at 0x7fabe2604598>,\n",
       "                                 vocabulary=None)),\n",
       "                ('classifier',\n",
       "                 MultinomialNB(alpha=1.0, class_prior=None, fit_prior=True))],\n",
       "         verbose=False)"
      ]
     },
     "execution_count": 53,
     "metadata": {
      "tags": []
     },
     "output_type": "execute_result"
    }
   ],
   "source": [
    "pipeline_negacoes.fit(tweets,classes)"
   ]
  },
  {
   "cell_type": "markdown",
   "metadata": {
    "colab_type": "text",
    "id": "1js2hfBdfHI6"
   },
   "source": [
    "* Etapas do pipeline"
   ]
  },
  {
   "cell_type": "code",
   "execution_count": 54,
   "metadata": {
    "colab": {
     "base_uri": "https://localhost:8080/",
     "height": 194
    },
    "colab_type": "code",
    "executionInfo": {
     "elapsed": 574,
     "status": "ok",
     "timestamp": 1566435124856,
     "user": {
      "displayName": "Rodrigo Santana Ferreira",
      "photoUrl": "https://lh3.googleusercontent.com/a-/AAuE7mDmYh9EbTthNVFuzwQSdLXKIk98sJfQinB_DD4VqA=s64",
      "userId": "14710330936720624047"
     },
     "user_tz": 180
    },
    "id": "ytZ7h4lXfHI7",
    "outputId": "657d9b64-1d6d-4efc-ac77-8dee2a755a83"
   },
   "outputs": [
    {
     "data": {
      "text/plain": [
       "[('counts',\n",
       "  CountVectorizer(analyzer='word', binary=False, decode_error='strict',\n",
       "                  dtype=<class 'numpy.int64'>, encoding='utf-8', input='content',\n",
       "                  lowercase=True, max_df=1.0, max_features=None, min_df=1,\n",
       "                  ngram_range=(1, 1), preprocessor=None, stop_words=None,\n",
       "                  strip_accents=None, token_pattern='(?u)\\\\b\\\\w\\\\w+\\\\b',\n",
       "                  tokenizer=<function <lambda> at 0x7fabe2604598>,\n",
       "                  vocabulary=None)),\n",
       " ('classifier', MultinomialNB(alpha=1.0, class_prior=None, fit_prior=True))]"
      ]
     },
     "execution_count": 54,
     "metadata": {
      "tags": []
     },
     "output_type": "execute_result"
    }
   ],
   "source": [
    "pipeline_negacoes.steps"
   ]
  },
  {
   "cell_type": "markdown",
   "metadata": {
    "colab_type": "text",
    "id": "99PR3Zkxymew"
   },
   "source": [
    "Modelo com SVM"
   ]
  },
  {
   "cell_type": "code",
   "execution_count": null,
   "metadata": {
    "colab": {},
    "colab_type": "code",
    "id": "8FIDTiQKyk5l"
   },
   "outputs": [],
   "source": [
    "pipeline_svm_simples = Pipeline([\n",
    "  ('counts', CountVectorizer()),\n",
    "  ('classifier', svm.SVC(kernel='linear'))\n",
    "])"
   ]
  },
  {
   "cell_type": "code",
   "execution_count": null,
   "metadata": {
    "colab": {},
    "colab_type": "code",
    "id": "b3q4BrMey2zh"
   },
   "outputs": [],
   "source": [
    "pipeline_svm_negacoes = Pipeline([\n",
    "  ('counts', CountVectorizer(tokenizer=lambda text: marque_negacao(text))),\n",
    "  ('classifier', svm.SVC(kernel='linear'))\n",
    "])"
   ]
  },
  {
   "cell_type": "markdown",
   "metadata": {
    "colab_type": "text",
    "id": "SGfKFbZRfHI-"
   },
   "source": [
    "## Validando os Modelos com Validação Cruzada"
   ]
  },
  {
   "cell_type": "markdown",
   "metadata": {
    "colab_type": "text",
    "id": "t-E9PpV6fHI_"
   },
   "source": [
    "* Fazendo o cross validation do modelo"
   ]
  },
  {
   "cell_type": "code",
   "execution_count": null,
   "metadata": {
    "colab": {},
    "colab_type": "code",
    "id": "4Gk7uMEtfHJA"
   },
   "outputs": [],
   "source": [
    "resultados = cross_val_predict(pipeline_simples, tweets, classes, cv=10)"
   ]
  },
  {
   "cell_type": "markdown",
   "metadata": {
    "colab_type": "text",
    "id": "c8CqLggufHJD"
   },
   "source": [
    "* Medindo a acurácia média do modelo"
   ]
  },
  {
   "cell_type": "code",
   "execution_count": 58,
   "metadata": {
    "colab": {
     "base_uri": "https://localhost:8080/",
     "height": 34
    },
    "colab_type": "code",
    "executionInfo": {
     "elapsed": 630,
     "status": "ok",
     "timestamp": 1566435274779,
     "user": {
      "displayName": "Rodrigo Santana Ferreira",
      "photoUrl": "https://lh3.googleusercontent.com/a-/AAuE7mDmYh9EbTthNVFuzwQSdLXKIk98sJfQinB_DD4VqA=s64",
      "userId": "14710330936720624047"
     },
     "user_tz": 180
    },
    "id": "y27p3EpxfHJD",
    "outputId": "77917ecd-1776-48e4-b214-5bba3e9e37f0"
   },
   "outputs": [
    {
     "data": {
      "text/plain": [
       "0.8716392020815265"
      ]
     },
     "execution_count": 58,
     "metadata": {
      "tags": []
     },
     "output_type": "execute_result"
    }
   ],
   "source": [
    "metrics.accuracy_score(classes,resultados)"
   ]
  },
  {
   "cell_type": "markdown",
   "metadata": {
    "colab_type": "text",
    "id": "049BZedMfHJG"
   },
   "source": [
    "* Medidas de validação do modelo"
   ]
  },
  {
   "cell_type": "code",
   "execution_count": 59,
   "metadata": {
    "colab": {
     "base_uri": "https://localhost:8080/",
     "height": 192
    },
    "colab_type": "code",
    "executionInfo": {
     "elapsed": 641,
     "status": "ok",
     "timestamp": 1566435317124,
     "user": {
      "displayName": "Rodrigo Santana Ferreira",
      "photoUrl": "https://lh3.googleusercontent.com/a-/AAuE7mDmYh9EbTthNVFuzwQSdLXKIk98sJfQinB_DD4VqA=s64",
      "userId": "14710330936720624047"
     },
     "user_tz": 180
    },
    "id": "3DQOMkQZfHJH",
    "outputId": "8cba49b1-6a73-4a5a-f210-d46acd1eedfb"
   },
   "outputs": [
    {
     "name": "stdout",
     "output_type": "stream",
     "text": [
      "              precision    recall  f1-score   support\n",
      "\n",
      "    Positivo       0.95      0.89      0.92      2840\n",
      "    Negativo       0.80      0.87      0.83       951\n",
      "      Neutro       0.81      0.84      0.83      1974\n",
      "\n",
      "    accuracy                           0.87      5765\n",
      "   macro avg       0.85      0.87      0.86      5765\n",
      "weighted avg       0.88      0.87      0.87      5765\n",
      "\n"
     ]
    }
   ],
   "source": [
    "sentimento=['Positivo','Negativo','Neutro']\n",
    "print (metrics.classification_report(classes,resultados,sentimento))"
   ]
  },
  {
   "cell_type": "markdown",
   "metadata": {
    "colab_type": "text",
    "id": "vQuKPwm-fHJI"
   },
   "source": [
    "* Matriz de confusão"
   ]
  },
  {
   "cell_type": "code",
   "execution_count": 60,
   "metadata": {
    "colab": {
     "base_uri": "https://localhost:8080/",
     "height": 122
    },
    "colab_type": "code",
    "executionInfo": {
     "elapsed": 635,
     "status": "ok",
     "timestamp": 1566435368923,
     "user": {
      "displayName": "Rodrigo Santana Ferreira",
      "photoUrl": "https://lh3.googleusercontent.com/a-/AAuE7mDmYh9EbTthNVFuzwQSdLXKIk98sJfQinB_DD4VqA=s64",
      "userId": "14710330936720624047"
     },
     "user_tz": 180
    },
    "id": "EKXS0gh-fHJI",
    "outputId": "b79a0618-9e78-4a75-ef1c-cba98bb84a6f"
   },
   "outputs": [
    {
     "name": "stdout",
     "output_type": "stream",
     "text": [
      "Predito   Negativo  Neutro  Positivo   All\n",
      "Real                                      \n",
      "Negativo       832     111         8   951\n",
      "Neutro         175    1662       137  1974\n",
      "Positivo        37     272      2531  2840\n",
      "All           1044    2045      2676  5765\n"
     ]
    }
   ],
   "source": [
    "print (pd.crosstab(classes, resultados, rownames=['Real'], colnames=['Predito'], margins=True))"
   ]
  },
  {
   "cell_type": "code",
   "execution_count": null,
   "metadata": {
    "colab": {},
    "colab_type": "code",
    "id": "3mBacjlezjA1"
   },
   "outputs": [],
   "source": [
    "def Metricas(modelo, tweets, classes):\n",
    "  resultados = cross_val_predict(modelo, tweets, classes, cv=10)\n",
    "  return 'Acurácia do modelo: {}'.format(metrics.accuracy_score(classes,resultados))"
   ]
  },
  {
   "cell_type": "code",
   "execution_count": 63,
   "metadata": {
    "colab": {
     "base_uri": "https://localhost:8080/",
     "height": 34
    },
    "colab_type": "code",
    "executionInfo": {
     "elapsed": 2057,
     "status": "ok",
     "timestamp": 1566435466353,
     "user": {
      "displayName": "Rodrigo Santana Ferreira",
      "photoUrl": "https://lh3.googleusercontent.com/a-/AAuE7mDmYh9EbTthNVFuzwQSdLXKIk98sJfQinB_DD4VqA=s64",
      "userId": "14710330936720624047"
     },
     "user_tz": 180
    },
    "id": "YvChG4un0M_A",
    "outputId": "29c69762-e896-4b14-e388-8f7e774987c6"
   },
   "outputs": [
    {
     "data": {
      "text/plain": [
       "'Acurácia do modelo: 0.8716392020815265'"
      ]
     },
     "execution_count": 63,
     "metadata": {
      "tags": []
     },
     "output_type": "execute_result"
    }
   ],
   "source": [
    "# naive bayes simples\n",
    "Metricas(pipeline_simples,tweets,classes)"
   ]
  },
  {
   "cell_type": "code",
   "execution_count": 64,
   "metadata": {
    "colab": {
     "base_uri": "https://localhost:8080/",
     "height": 34
    },
    "colab_type": "code",
    "executionInfo": {
     "elapsed": 3127,
     "status": "ok",
     "timestamp": 1566435482681,
     "user": {
      "displayName": "Rodrigo Santana Ferreira",
      "photoUrl": "https://lh3.googleusercontent.com/a-/AAuE7mDmYh9EbTthNVFuzwQSdLXKIk98sJfQinB_DD4VqA=s64",
      "userId": "14710330936720624047"
     },
     "user_tz": 180
    },
    "id": "S9_-UNWP1U4A",
    "outputId": "bedb7949-b761-4afc-cc67-b107d3e705e0"
   },
   "outputs": [
    {
     "data": {
      "text/plain": [
       "'Acurácia do modelo: 0.6830875975715525'"
      ]
     },
     "execution_count": 64,
     "metadata": {
      "tags": []
     },
     "output_type": "execute_result"
    }
   ],
   "source": [
    "# naive bayes com tag de negacoes\n",
    "Metricas(pipeline_negacoes,tweets,classes)"
   ]
  },
  {
   "cell_type": "code",
   "execution_count": 65,
   "metadata": {
    "colab": {
     "base_uri": "https://localhost:8080/",
     "height": 34
    },
    "colab_type": "code",
    "executionInfo": {
     "elapsed": 18439,
     "status": "ok",
     "timestamp": 1566435528623,
     "user": {
      "displayName": "Rodrigo Santana Ferreira",
      "photoUrl": "https://lh3.googleusercontent.com/a-/AAuE7mDmYh9EbTthNVFuzwQSdLXKIk98sJfQinB_DD4VqA=s64",
      "userId": "14710330936720624047"
     },
     "user_tz": 180
    },
    "id": "_tImcLHZ1VDF",
    "outputId": "694b67a0-dd1d-41ec-d475-d5db6e995bc9"
   },
   "outputs": [
    {
     "data": {
      "text/plain": [
       "'Acurácia do modelo: 0.8945359930615785'"
      ]
     },
     "execution_count": 65,
     "metadata": {
      "tags": []
     },
     "output_type": "execute_result"
    }
   ],
   "source": [
    "# svm linear simples\n",
    "Metricas(pipeline_svm_simples,tweets,classes)"
   ]
  },
  {
   "cell_type": "code",
   "execution_count": 66,
   "metadata": {
    "colab": {
     "base_uri": "https://localhost:8080/",
     "height": 34
    },
    "colab_type": "code",
    "executionInfo": {
     "elapsed": 101958,
     "status": "ok",
     "timestamp": 1566435671766,
     "user": {
      "displayName": "Rodrigo Santana Ferreira",
      "photoUrl": "https://lh3.googleusercontent.com/a-/AAuE7mDmYh9EbTthNVFuzwQSdLXKIk98sJfQinB_DD4VqA=s64",
      "userId": "14710330936720624047"
     },
     "user_tz": 180
    },
    "id": "SOPkPKnT1xVm",
    "outputId": "3bcc4d92-131c-460d-cca6-299705765cdd"
   },
   "outputs": [
    {
     "data": {
      "text/plain": [
       "'Acurácia do modelo: 0.7694709453599307'"
      ]
     },
     "execution_count": 66,
     "metadata": {
      "tags": []
     },
     "output_type": "execute_result"
    }
   ],
   "source": [
    "# svm linear com tag de negacoes\n",
    "Metricas(pipeline_svm_negacoes,tweets,classes)"
   ]
  },
  {
   "cell_type": "markdown",
   "metadata": {
    "colab_type": "text",
    "id": "KhJiRyUmfHJK"
   },
   "source": [
    "## **Modelo com a Tag de Negações**"
   ]
  },
  {
   "cell_type": "code",
   "execution_count": null,
   "metadata": {
    "colab": {},
    "colab_type": "code",
    "id": "pb284ewqfHJM"
   },
   "outputs": [],
   "source": [
    "resultados = cross_val_predict(pipeline_negacoes, tweets, classes, cv=10)"
   ]
  },
  {
   "cell_type": "markdown",
   "metadata": {
    "colab_type": "text",
    "id": "yqD7zS18fHJO"
   },
   "source": [
    "* Medindo a acurácia média do modelo"
   ]
  },
  {
   "cell_type": "code",
   "execution_count": 68,
   "metadata": {
    "colab": {
     "base_uri": "https://localhost:8080/",
     "height": 34
    },
    "colab_type": "code",
    "executionInfo": {
     "elapsed": 679,
     "status": "ok",
     "timestamp": 1566435762374,
     "user": {
      "displayName": "Rodrigo Santana Ferreira",
      "photoUrl": "https://lh3.googleusercontent.com/a-/AAuE7mDmYh9EbTthNVFuzwQSdLXKIk98sJfQinB_DD4VqA=s64",
      "userId": "14710330936720624047"
     },
     "user_tz": 180
    },
    "id": "Ozi38FIlfHJP",
    "outputId": "a60dacca-fe06-4be7-dc8f-8ccf1d0eeb29"
   },
   "outputs": [
    {
     "data": {
      "text/plain": [
       "0.6830875975715525"
      ]
     },
     "execution_count": 68,
     "metadata": {
      "tags": []
     },
     "output_type": "execute_result"
    }
   ],
   "source": [
    "metrics.accuracy_score(classes,resultados)"
   ]
  },
  {
   "cell_type": "code",
   "execution_count": 69,
   "metadata": {
    "colab": {
     "base_uri": "https://localhost:8080/",
     "height": 192
    },
    "colab_type": "code",
    "executionInfo": {
     "elapsed": 671,
     "status": "ok",
     "timestamp": 1566435767435,
     "user": {
      "displayName": "Rodrigo Santana Ferreira",
      "photoUrl": "https://lh3.googleusercontent.com/a-/AAuE7mDmYh9EbTthNVFuzwQSdLXKIk98sJfQinB_DD4VqA=s64",
      "userId": "14710330936720624047"
     },
     "user_tz": 180
    },
    "id": "IFH-DuBofHJU",
    "outputId": "deb1bb4a-bd78-4314-af92-d7d9d7cef3b9"
   },
   "outputs": [
    {
     "name": "stdout",
     "output_type": "stream",
     "text": [
      "              precision    recall  f1-score   support\n",
      "\n",
      "    Positivo       0.69      0.89      0.78      2840\n",
      "    Negativo       0.60      0.26      0.36       951\n",
      "      Neutro       0.69      0.58      0.63      1974\n",
      "\n",
      "    accuracy                           0.68      5765\n",
      "   macro avg       0.66      0.58      0.59      5765\n",
      "weighted avg       0.67      0.68      0.66      5765\n",
      "\n"
     ]
    }
   ],
   "source": [
    "sentimento=['Positivo','Negativo','Neutro']\n",
    "print (metrics.classification_report(classes,resultados,sentimento))"
   ]
  },
  {
   "cell_type": "markdown",
   "metadata": {
    "colab_type": "text",
    "id": "jtDzIhrhfHJW"
   },
   "source": [
    "* Matriz de confusão"
   ]
  },
  {
   "cell_type": "code",
   "execution_count": 70,
   "metadata": {
    "colab": {
     "base_uri": "https://localhost:8080/",
     "height": 122
    },
    "colab_type": "code",
    "executionInfo": {
     "elapsed": 637,
     "status": "ok",
     "timestamp": 1566435771364,
     "user": {
      "displayName": "Rodrigo Santana Ferreira",
      "photoUrl": "https://lh3.googleusercontent.com/a-/AAuE7mDmYh9EbTthNVFuzwQSdLXKIk98sJfQinB_DD4VqA=s64",
      "userId": "14710330936720624047"
     },
     "user_tz": 180
    },
    "id": "KDYrF9v_fHJW",
    "outputId": "b6b32a6f-9e21-4af1-96d4-4a8149e776d9"
   },
   "outputs": [
    {
     "name": "stdout",
     "output_type": "stream",
     "text": [
      "Predito   Negativo  Neutro  Positivo   All\n",
      "Real                                      \n",
      "Negativo       247     307       397   951\n",
      "Neutro          77    1151       746  1974\n",
      "Positivo        86     214      2540  2840\n",
      "All            410    1672      3683  5765\n"
     ]
    }
   ],
   "source": [
    "print (pd.crosstab(classes, resultados, rownames=['Real'], colnames=['Predito'], margins=True))"
   ]
  },
  {
   "cell_type": "markdown",
   "metadata": {
    "colab_type": "text",
    "id": "wfLQeW6yfHJZ"
   },
   "source": [
    "## **Avaliando modelo com Bigrams**"
   ]
  },
  {
   "cell_type": "markdown",
   "metadata": {
    "colab_type": "text",
    "id": "q9bd7jK13krf"
   },
   "source": [
    "Eu gosto do Brasil -------------> **'eu gosto', 'gosto do' , 'do brasil'**"
   ]
  },
  {
   "cell_type": "code",
   "execution_count": 71,
   "metadata": {
    "colab": {
     "base_uri": "https://localhost:8080/",
     "height": 34
    },
    "colab_type": "code",
    "executionInfo": {
     "elapsed": 2056,
     "status": "ok",
     "timestamp": 1566435905901,
     "user": {
      "displayName": "Rodrigo Santana Ferreira",
      "photoUrl": "https://lh3.googleusercontent.com/a-/AAuE7mDmYh9EbTthNVFuzwQSdLXKIk98sJfQinB_DD4VqA=s64",
      "userId": "14710330936720624047"
     },
     "user_tz": 180
    },
    "id": "tqdMpvcXfHJb",
    "outputId": "5711f18f-2cc1-4012-fdaa-4b9ac8a9fdff"
   },
   "outputs": [
    {
     "data": {
      "text/plain": [
       "MultinomialNB(alpha=1.0, class_prior=None, fit_prior=True)"
      ]
     },
     "execution_count": 71,
     "metadata": {
      "tags": []
     },
     "output_type": "execute_result"
    }
   ],
   "source": [
    "# Bigrams\n",
    "vectorizer = CountVectorizer(ngram_range=(2,2))\n",
    "freq_tweets = vectorizer.fit_transform(tweets)\n",
    "modelo = MultinomialNB()\n",
    "modelo.fit(freq_tweets,classes)"
   ]
  },
  {
   "cell_type": "code",
   "execution_count": null,
   "metadata": {
    "colab": {},
    "colab_type": "code",
    "id": "D71t-pPGfHJc"
   },
   "outputs": [],
   "source": [
    "resultados = cross_val_predict(modelo, freq_tweets, classes, cv=10)"
   ]
  },
  {
   "cell_type": "code",
   "execution_count": 73,
   "metadata": {
    "colab": {
     "base_uri": "https://localhost:8080/",
     "height": 34
    },
    "colab_type": "code",
    "executionInfo": {
     "elapsed": 1091,
     "status": "ok",
     "timestamp": 1566435941728,
     "user": {
      "displayName": "Rodrigo Santana Ferreira",
      "photoUrl": "https://lh3.googleusercontent.com/a-/AAuE7mDmYh9EbTthNVFuzwQSdLXKIk98sJfQinB_DD4VqA=s64",
      "userId": "14710330936720624047"
     },
     "user_tz": 180
    },
    "id": "Eqv_fetJfHJg",
    "outputId": "85bc4253-40b9-492a-aaa1-0b764661e726"
   },
   "outputs": [
    {
     "data": {
      "text/plain": [
       "0.8412836079791848"
      ]
     },
     "execution_count": 73,
     "metadata": {
      "tags": []
     },
     "output_type": "execute_result"
    }
   ],
   "source": [
    "metrics.accuracy_score(classes,resultados)"
   ]
  },
  {
   "cell_type": "code",
   "execution_count": null,
   "metadata": {
    "colab": {},
    "colab_type": "code",
    "id": "WzoMUniTfHJi"
   },
   "outputs": [],
   "source": [
    "sentimento=['Positivo','Negativo','Neutro']\n",
    "print (metrics.classification_report(classes,resultados,sentimento))"
   ]
  },
  {
   "cell_type": "markdown",
   "metadata": {
    "colab_type": "text",
    "id": "WiC2Ns5-fHJp"
   },
   "source": [
    "## **Considerações Finais**"
   ]
  },
  {
   "cell_type": "markdown",
   "metadata": {
    "colab_type": "text",
    "id": "W_HRElekfHJq"
   },
   "source": [
    "* Considere aumentar a quantidade de dados de treino.\n",
    "\n",
    "* Pela sua simplicidade o Naive Bayes pode ser usado perfeitamente como um algoritmo de Baseline.\n",
    "\n",
    "* Considere alterar os parâmetros do algoritmo."
   ]
  },
  {
   "cell_type": "markdown",
   "metadata": {
    "colab_type": "text",
    "id": "q7IEqCXffHJq"
   },
   "source": [
    "**www.minerandodados.com.br** - *A maior comunidade de Data Science do Brasil*"
   ]
  },
  {
   "cell_type": "markdown",
   "metadata": {},
   "source": []
  }
 ],
 "metadata": {
  "colab": {
   "collapsed_sections": [],
   "name": "Live-Analise-Sentimentos.ipynb",
   "provenance": [],
   "version": "0.3.2"
  },
  "kernelspec": {
   "display_name": "Python 3 (ipykernel)",
   "language": "python",
   "name": "python3"
  },
  "language_info": {
   "codemirror_mode": {
    "name": "ipython",
    "version": 3
   },
   "file_extension": ".py",
   "mimetype": "text/x-python",
   "name": "python",
   "nbconvert_exporter": "python",
   "pygments_lexer": "ipython3",
   "version": "3.9.7"
  }
 },
 "nbformat": 4,
 "nbformat_minor": 4
}
